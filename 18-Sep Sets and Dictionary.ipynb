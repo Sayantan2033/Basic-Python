{
 "cells": [
  {
   "cell_type": "markdown",
   "metadata": {},
   "source": [
    "# Sets"
   ]
  },
  {
   "cell_type": "raw",
   "metadata": {},
   "source": [
    "Sets are self-sorting\n",
    "Sets are not CRUD applicable"
   ]
  },
  {
   "cell_type": "code",
   "execution_count": 1,
   "metadata": {},
   "outputs": [
    {
     "name": "stdout",
     "output_type": "stream",
     "text": [
      "Enter elements of set: 1,2,3,4,5,6,3,4,0\n",
      "{0, 1, 2, 3, 4, 5, 6}\n",
      "<class 'set'>\n"
     ]
    }
   ],
   "source": [
    "#example\n",
    "#using eval\n",
    "x = set(eval(input(\"Enter elements of set: \")))\n",
    "\n",
    "print(x)\n",
    "print(type(x))"
   ]
  },
  {
   "cell_type": "code",
   "execution_count": 6,
   "metadata": {},
   "outputs": [
    {
     "name": "stdout",
     "output_type": "stream",
     "text": [
      "<class 'set'>\n",
      "set()\n",
      "{10}\n",
      "{10, 'python'}\n"
     ]
    }
   ],
   "source": [
    "#using set()\n",
    "\n",
    "b = set()\n",
    "\n",
    "print(type(b))\n",
    "print(b)\n",
    "\n",
    "b.add(10)\n",
    "print(b)\n",
    "\n",
    "b.add(\"python\")\n",
    "print(b)"
   ]
  },
  {
   "cell_type": "code",
   "execution_count": 9,
   "metadata": {},
   "outputs": [
    {
     "name": "stdout",
     "output_type": "stream",
     "text": [
      "3 4 12 12.69 League "
     ]
    }
   ],
   "source": [
    "#using loop\n",
    "\n",
    "x = {12,3,4,\"League\",12.69}\n",
    "\n",
    "for i in x:\n",
    "    print(i, end = \" \")"
   ]
  },
  {
   "cell_type": "code",
   "execution_count": 10,
   "metadata": {},
   "outputs": [
    {
     "ename": "TypeError",
     "evalue": "'set' object is not subscriptable",
     "output_type": "error",
     "traceback": [
      "\u001b[1;31m---------------------------------------------------------------------------\u001b[0m",
      "\u001b[1;31mTypeError\u001b[0m                                 Traceback (most recent call last)",
      "\u001b[1;32m<ipython-input-10-be762292783c>\u001b[0m in \u001b[0;36m<module>\u001b[1;34m\u001b[0m\n\u001b[0;32m      6\u001b[0m \u001b[1;33m\u001b[0m\u001b[0m\n\u001b[0;32m      7\u001b[0m \u001b[1;32mwhile\u001b[0m\u001b[1;33m(\u001b[0m\u001b[0mi\u001b[0m\u001b[1;33m<\u001b[0m\u001b[0mlen\u001b[0m\u001b[1;33m(\u001b[0m\u001b[0mx\u001b[0m\u001b[1;33m)\u001b[0m\u001b[1;33m)\u001b[0m\u001b[1;33m:\u001b[0m\u001b[1;33m\u001b[0m\u001b[1;33m\u001b[0m\u001b[0m\n\u001b[1;32m----> 8\u001b[1;33m     \u001b[0mprint\u001b[0m\u001b[1;33m(\u001b[0m\u001b[0mx\u001b[0m\u001b[1;33m[\u001b[0m\u001b[0mi\u001b[0m\u001b[1;33m]\u001b[0m\u001b[1;33m,\u001b[0m \u001b[0mend\u001b[0m \u001b[1;33m=\u001b[0m \u001b[1;34m\" \"\u001b[0m\u001b[1;33m)\u001b[0m\u001b[1;33m\u001b[0m\u001b[1;33m\u001b[0m\u001b[0m\n\u001b[0m\u001b[0;32m      9\u001b[0m     \u001b[0mi\u001b[0m \u001b[1;33m+=\u001b[0m \u001b[1;36m1\u001b[0m\u001b[1;33m\u001b[0m\u001b[1;33m\u001b[0m\u001b[0m\n",
      "\u001b[1;31mTypeError\u001b[0m: 'set' object is not subscriptable"
     ]
    }
   ],
   "source": [
    "#using while loop, will not work\n",
    "\n",
    "x = {12,3,4,\"League\",12.69}\n",
    "\n",
    "i = 0\n",
    "\n",
    "while(i<len(x)):\n",
    "    print(x[i], end = \" \")\n",
    "    i += 1"
   ]
  },
  {
   "cell_type": "markdown",
   "metadata": {},
   "source": [
    "# Methods of sets"
   ]
  },
  {
   "cell_type": "code",
   "execution_count": 11,
   "metadata": {},
   "outputs": [
    {
     "name": "stdout",
     "output_type": "stream",
     "text": [
      "{12, 14}\n"
     ]
    }
   ],
   "source": [
    "#Difference\n",
    "\n",
    "d = {10,12,14,16,18}\n",
    "e = {10,11,13,16,18}\n",
    "\n",
    "print(d.difference(e))"
   ]
  },
  {
   "cell_type": "code",
   "execution_count": 13,
   "metadata": {},
   "outputs": [
    {
     "name": "stdout",
     "output_type": "stream",
     "text": [
      "{10, 18}\n"
     ]
    }
   ],
   "source": [
    "#Intersection\n",
    "\n",
    "d = {10,12,14,16,18}\n",
    "e = {10,11,13,16,18}\n",
    "f = {10,15,18}\n",
    "\n",
    "g = d.intersection(e,f)\n",
    "\n",
    "print(g)"
   ]
  },
  {
   "cell_type": "code",
   "execution_count": 14,
   "metadata": {},
   "outputs": [
    {
     "name": "stdout",
     "output_type": "stream",
     "text": [
      "{10, 11, 12, 13, 14, 15, 16, 18}\n"
     ]
    }
   ],
   "source": [
    "#Union\n",
    "\n",
    "d = {10,12,14,16,18}\n",
    "e = {10,11,13,16,18}\n",
    "f = {10,15,18}\n",
    "\n",
    "g = d.union(e,f)\n",
    "\n",
    "print(g)"
   ]
  },
  {
   "cell_type": "code",
   "execution_count": 16,
   "metadata": {},
   "outputs": [
    {
     "name": "stdout",
     "output_type": "stream",
     "text": [
      "{3, 4, 12, 12.69, 'League'}\n",
      "Clearing x\n",
      "set()\n"
     ]
    }
   ],
   "source": [
    "#Clear\n",
    "\n",
    "x = {12,3,4,\"League\",12.69}\n",
    "print(x)\n",
    "print(\"Clearing x\")\n",
    "x.clear() #removes all elements\n",
    "print(x)"
   ]
  },
  {
   "cell_type": "raw",
   "metadata": {},
   "source": [
    "1. WAP to remove duplicate elements of list.\n",
    "2. WAP to print different vowels present in given word."
   ]
  },
  {
   "cell_type": "code",
   "execution_count": 9,
   "metadata": {},
   "outputs": [
    {
     "name": "stdout",
     "output_type": "stream",
     "text": [
      "Enter the elements: [1,2,3,3,3,3,4,4,5,5,5]\n",
      "[1, 2, 3, 3, 3, 3, 4, 4, 5, 5, 5]\n",
      "<class 'list'>\n",
      "[1, 2, 3, 4, 5]\n"
     ]
    }
   ],
   "source": [
    "#WAP to remove duplicate elements of list\n",
    "\n",
    "x = eval(input(\"Enter the elements: \"))\n",
    "\n",
    "print(x)\n",
    "print(type(x))\n",
    "\n",
    "i = 0\n",
    "while i<len(x):\n",
    "    j = i+1\n",
    "    while(j<len(x)):\n",
    "        if (x[j] == x[i]):\n",
    "            x.pop(j)\n",
    "            continue\n",
    "        j += 1\n",
    "    i += 1\n",
    "print(x)"
   ]
  },
  {
   "cell_type": "code",
   "execution_count": 4,
   "metadata": {},
   "outputs": [
    {
     "name": "stdout",
     "output_type": "stream",
     "text": [
      "Enter the elements to remove duplicates: 1,2,2,2,3,3,3,3,4,4,5\n",
      "[1, 2, 2, 2, 3, 3, 3, 3, 4, 4, 5]\n",
      "The list after removing duplicates is:  {1, 2, 3, 4, 5}\n"
     ]
    }
   ],
   "source": [
    "#Using sets\n",
    "\n",
    "x = list(eval(input(\"Enter the elements to remove duplicates: \")))\n",
    "#x = list(x)\n",
    "#print(x)\n",
    "\n",
    "s = set(x)\n",
    "\n",
    "print(\"The list after removing duplicates is: \", s)"
   ]
  },
  {
   "cell_type": "code",
   "execution_count": 7,
   "metadata": {},
   "outputs": [
    {
     "name": "stdout",
     "output_type": "stream",
     "text": [
      "Enter the word: Talon\n",
      "The vowels in the word are: \n",
      "a\n",
      "o\n"
     ]
    }
   ],
   "source": [
    "#WAP to print different vowels present in given word\n",
    "\n",
    "word = str(input(\"Enter the word: \"))\n",
    "\n",
    "print(\"The vowels in the word are: \")\n",
    "\n",
    "for i in word:\n",
    "    if(i in ['a','A','e','E''i','I','o','O','u','U']):\n",
    "        print(i)"
   ]
  },
  {
   "cell_type": "markdown",
   "metadata": {},
   "source": [
    "# Dictionary\n",
    "\n",
    "Dictionary is the collection of key and value pair where insertion order is not preserved and duplicate keys are not allowed while value can be duplicate.\n",
    "\n",
    "It is represented by {}\n",
    "\n",
    "It is mutable\n",
    "\n",
    "It is heterogenous\n",
    "\n",
    "Syntax:\n",
    "\n",
    "refvar = {key1:value1, key2:value2, ......., keyn:valuen}"
   ]
  },
  {
   "cell_type": "code",
   "execution_count": 4,
   "metadata": {},
   "outputs": [
    {
     "name": "stdout",
     "output_type": "stream",
     "text": [
      "{1: 'python', 2: 'machine_learning', 3: 'data_science', 4: 150, 5: 20}\n",
      "<class 'dict'>\n"
     ]
    }
   ],
   "source": [
    "#Example\n",
    "\n",
    "d = {1:\"python\", 2:\"machine_learning\", 3:\"data_science\", 4:150, 5:20}\n",
    "\n",
    "print(d)\n",
    "print(type(d))"
   ]
  },
  {
   "cell_type": "code",
   "execution_count": 5,
   "metadata": {},
   "outputs": [
    {
     "name": "stdout",
     "output_type": "stream",
     "text": [
      "{1: 'python', 2: 'machine_learning', 3: 'data', 4: 150, 5: 20}\n"
     ]
    }
   ],
   "source": [
    "#Another method for adding value, but it replaces\n",
    "\n",
    "d = {1:\"python\", 2:\"machine_learning\", 3:\"data_science\", 4:150, 5:20}\n",
    "\n",
    "d[3] = \"data\"\n",
    "\n",
    "print(d)"
   ]
  },
  {
   "cell_type": "markdown",
   "metadata": {},
   "source": [
    "# Methods of dictionary"
   ]
  },
  {
   "cell_type": "code",
   "execution_count": 6,
   "metadata": {},
   "outputs": [
    {
     "name": "stdout",
     "output_type": "stream",
     "text": [
      "python\n",
      "machine_learning\n"
     ]
    }
   ],
   "source": [
    "#Using key\n",
    "\n",
    "d = {1:\"python\", 2:\"machine_learning\", 3:\"data_science\", 4:150, 5:20}\n",
    "\n",
    "print(d[1])\n",
    "print(d[2])"
   ]
  },
  {
   "cell_type": "code",
   "execution_count": 8,
   "metadata": {},
   "outputs": [
    {
     "name": "stdout",
     "output_type": "stream",
     "text": [
      "1 : python\n",
      "2 : machine_learning\n",
      "3 : data_science\n",
      "4 : 150\n",
      "5 : 20\n"
     ]
    }
   ],
   "source": [
    "#loop\n",
    "\n",
    "d = {1:\"python\", 2:\"machine_learning\", 3:\"data_science\", 4:150, 5:20}\n",
    "\n",
    "for i in d:\n",
    "    print(i, \":\", d[i])"
   ]
  },
  {
   "cell_type": "raw",
   "metadata": {},
   "source": [
    "1. WAP to enter name and percentage marks in a dictionary and display information on the screen."
   ]
  },
  {
   "cell_type": "code",
   "execution_count": 14,
   "metadata": {},
   "outputs": [
    {
     "name": "stdout",
     "output_type": "stream",
     "text": [
      "Enter the number of students: 1\n",
      "Enter the name: Talon \n",
      "Enter the percentage marks69\n",
      "NAME : PERCENTAGE MARKS\n",
      "Talon  : 69\n"
     ]
    }
   ],
   "source": [
    "#WAP to enter name and percentage marks in a dictionary and display information on the screen\n",
    "\n",
    "n = int(input(\"Enter the number of students: \"))\n",
    "d = {}\n",
    "for i in range(n):\n",
    "    s = str(input(\"Enter the name: \"))\n",
    "    m = eval(input(\"Enter the percentage marks: \"))\n",
    "    d.setdefault(s, m)\n",
    "\n",
    "print()\n",
    "print(\"NAME : PERCENTAGE MARKS\")\n",
    "for i in d:\n",
    "    print(i, \":\", d[i])"
   ]
  },
  {
   "cell_type": "code",
   "execution_count": 10,
   "metadata": {},
   "outputs": [
    {
     "name": "stdout",
     "output_type": "stream",
     "text": [
      "data_science\n",
      "Please enter valid key.\n"
     ]
    }
   ],
   "source": [
    "#Get method\n",
    "\n",
    "d = {1:\"python\", 2:\"machine_learning\", 3:\"data_science\", 4:150, 5:20}\n",
    "\n",
    "print(d.get(3,\"Please enter valid key.\"))\n",
    "print(d.get(9,\"Please enter valid key.\"))"
   ]
  },
  {
   "cell_type": "code",
   "execution_count": 12,
   "metadata": {},
   "outputs": [
    {
     "name": "stdout",
     "output_type": "stream",
     "text": [
      "20\n",
      "python\n",
      "{1: 'python', 2: 'machine_learning', 3: 'data_science', 4: 150, 5: 20, 6: 'python'}\n"
     ]
    }
   ],
   "source": [
    "#Setdefault(key,value)\n",
    "d = {1:\"python\", 2:\"machine_learning\", 3:\"data_science\", 4:150, 5:20}\n",
    "\n",
    "print(d.setdefault(5,\"python\"))\n",
    "print(d.setdefault(6,\"python\"))\n",
    "\n",
    "print(d)"
   ]
  },
  {
   "cell_type": "code",
   "execution_count": 3,
   "metadata": {},
   "outputs": [
    {
     "name": "stdout",
     "output_type": "stream",
     "text": [
      "dict_keys([1, 2, 3, 4, 5])\n"
     ]
    }
   ],
   "source": [
    "#keys\n",
    "\n",
    "d = {1:\"python\", 2:\"machine_learning\", 3:\"data_science\", 4:150, 5:20}\n",
    "\n",
    "print(d.keys())"
   ]
  },
  {
   "cell_type": "code",
   "execution_count": 14,
   "metadata": {},
   "outputs": [
    {
     "name": "stdout",
     "output_type": "stream",
     "text": [
      "dict_values(['python', 'machine_learning', 'data_science', 150, 20])\n"
     ]
    }
   ],
   "source": [
    "#values\n",
    "\n",
    "d = {1:\"python\", 2:\"machine_learning\", 3:\"data_science\", 4:150, 5:20}\n",
    "\n",
    "print(d.values())"
   ]
  },
  {
   "cell_type": "code",
   "execution_count": 17,
   "metadata": {},
   "outputs": [
    {
     "name": "stdout",
     "output_type": "stream",
     "text": [
      "{1: 'python', 2: 'machine_learning', 3: 'data_science', 4: 150, 5: 20, 10: 'League', 11: 'Legends', 6: 34, 7: 23}\n"
     ]
    }
   ],
   "source": [
    "#Update\n",
    "#Will replace the original in case of conflict\n",
    "\n",
    "d = {1:\"python\", 2:\"machine_learning\", 3:\"data_science\", 4:150, 5:20}\n",
    "a = {10:\"League\", 11:\"Legends\"}\n",
    "b = {6:34, 7:23}\n",
    "\n",
    "d.update(a)\n",
    "d.update(b)\n",
    "print(d)"
   ]
  },
  {
   "cell_type": "markdown",
   "metadata": {},
   "source": [
    "# Assignment"
   ]
  },
  {
   "cell_type": "raw",
   "metadata": {},
   "source": [
    "1.WAP TO SUM ALL THE ITEMS IN A LIST\n",
    "\n",
    "2.WAP TO GET LARGEST NUMBER FROM A LIST\n",
    "\n",
    "3.WAP TO GET A LIST, SORTED IN INCREASING ORDER BY THE LAST ELEMENT IN EACH TUPLE FROM A GIVEN LIST OF NON EMPTY TUPLE\n",
    "\n",
    "4.WAP TO CHECK A LIST EMPTY OR NOT\n",
    "\n",
    "5.WAP TO CLONE OR COPY A LIST\n",
    "\n",
    "6.WAP TO FIND THE LISTS OF WORD THAT ARE LONGER THAN N FROM A GIVEN LIST OF WORDS\n",
    "\n",
    "7.WAP TO GENERATE ALL PERMUTATION OF A LIST IN PYTHON\n",
    "\n",
    "8.WAP TO GET THE FREQUENCY OF THE ELEMENT IN A LIST\n",
    "\n",
    "9.WAP TO CHECK WHETHER A LIST CONTAINS A SUB LIST\n",
    "\n",
    "10.WAP TO GET UNIQUE VALUE FROM A LIST"
   ]
  },
  {
   "cell_type": "code",
   "execution_count": 16,
   "metadata": {},
   "outputs": [
    {
     "name": "stdout",
     "output_type": "stream",
     "text": [
      "Enter the items in the list: 1,2,3,4,5,5,6\n",
      "The sum is:  26\n"
     ]
    }
   ],
   "source": [
    "#WAP TO SUM ALL THE ITEMS IN A LIST\n",
    "\n",
    "x = list(eval(input(\"Enter the items in the list: \")))\n",
    "\n",
    "sum = 0\n",
    "for i in x:\n",
    "    sum += i\n",
    "print(\"The sum is: \", sum)"
   ]
  },
  {
   "cell_type": "code",
   "execution_count": 17,
   "metadata": {},
   "outputs": [
    {
     "name": "stdout",
     "output_type": "stream",
     "text": [
      "Enter the items in the list: 1,2,3,4,5,6,7\n",
      "The largest number in the list is: 7\n"
     ]
    }
   ],
   "source": [
    "#WAP TO GET LARGEST NUMBER FROM A LIST\n",
    "\n",
    "x = list(eval(input(\"Enter the items in the list: \")))\n",
    "\n",
    "print(\"The largest number in the list is:\", max(x))"
   ]
  },
  {
   "cell_type": "code",
   "execution_count": 21,
   "metadata": {},
   "outputs": [
    {
     "name": "stdout",
     "output_type": "stream",
     "text": [
      "Enter the tuples: (1,2,3,4),(2,4,6,8),(3,6,9,12)\n",
      "[4, 8, 12]\n"
     ]
    }
   ],
   "source": [
    "#WAP TO GET A LIST, SORTED IN INCREASING ORDER BY THE LAST ELEMENT IN EACH TUPLE FROM A GIVEN LIST OF NON EMPTY TUPLE\n",
    "\n",
    "x = list(eval(input(\"Enter the tuples: \")))\n",
    "y = []\n",
    "\n",
    "for i in x:\n",
    "    y.append(i[-1])\n",
    "    \n",
    "y.sort()\n",
    "print(y)"
   ]
  },
  {
   "cell_type": "code",
   "execution_count": 25,
   "metadata": {},
   "outputs": [
    {
     "name": "stdout",
     "output_type": "stream",
     "text": [
      "Enter the items in list: 1,2,3,4\n",
      "Not empty\n"
     ]
    }
   ],
   "source": [
    "#WAP TO CHECK A LIST EMPTY OR NOT\n",
    "\n",
    "x = list(eval(input(\"Enter the items in list: \")))\n",
    "\n",
    "if(len(x) > 0):\n",
    "    print(\"Not empty\")\n",
    "else:\n",
    "    print(\"Empty\")"
   ]
  },
  {
   "cell_type": "code",
   "execution_count": 26,
   "metadata": {},
   "outputs": [
    {
     "name": "stdout",
     "output_type": "stream",
     "text": [
      "Enter the items in list: 1,2,3,4,54,\"python\"\n",
      "The original list is: [1, 2, 3, 4, 54, 'python']\n",
      "The copied list is: [1, 2, 3, 4, 54, 'python']\n"
     ]
    }
   ],
   "source": [
    "#WAP TO CLONE OR COPY A LIST\n",
    "\n",
    "x = list(eval(input(\"Enter the items in list: \")))\n",
    "\n",
    "print(\"The original list is:\", x)\n",
    "\n",
    "y = x.copy()\n",
    "\n",
    "print(\"The copied list is:\", y)"
   ]
  },
  {
   "cell_type": "code",
   "execution_count": 32,
   "metadata": {},
   "outputs": [
    {
     "name": "stdout",
     "output_type": "stream",
     "text": [
      "Enter the words: \"Talon\", \"Batman\", \"Zoe\", \"Neeko\", \"Zed\"\n",
      "Enter the number to check word size for: 3\n",
      "The list of words with size larger than 3 is: ['Talon', 'Batman', 'Neeko']\n"
     ]
    }
   ],
   "source": [
    "#WAP TO FIND THE LISTS OF WORD THAT ARE LONGER THAN N FROM A GIVEN LIST OF WORDS\n",
    "\n",
    "x = list(eval(input(\"Enter the words: \")))\n",
    "n = int(input(\"Enter the number to check word size for: \"))\n",
    "y = []\n",
    "\n",
    "for i in x:\n",
    "    if len(i) > n:\n",
    "        y.append(i)\n",
    "\n",
    "print(\"The list of words with size larger than\",n,\"is:\", y)"
   ]
  },
  {
   "cell_type": "code",
   "execution_count": 33,
   "metadata": {},
   "outputs": [],
   "source": [
    "#WAP TO GENERATE ALL PERMUTATION OF A LIST IN PYTHON"
   ]
  },
  {
   "cell_type": "code",
   "execution_count": 2,
   "metadata": {},
   "outputs": [
    {
     "name": "stdout",
     "output_type": "stream",
     "text": [
      "Enter the items in list: 1,2,3,3,3,3,4,5,6\n",
      "Enter the item to check frequency of: 3\n",
      "The frequency of 3 is: 4\n"
     ]
    }
   ],
   "source": [
    "#WAP TO GET THE FREQUENCY OF THE ELEMENT IN A LIST\n",
    "\n",
    "x = list(eval(input(\"Enter the items in list: \")))\n",
    "item = eval(input(\"Enter the item to check frequency of: \"))\n",
    "\n",
    "print(\"The frequency of\", item, \"is:\", x.count(item))"
   ]
  },
  {
   "cell_type": "code",
   "execution_count": 38,
   "metadata": {},
   "outputs": [
    {
     "name": "stdout",
     "output_type": "stream",
     "text": [
      "Enter the items in list: \"Talon\", \"Batman\", \"Zoe\", \"Neeko\", \"Zed\"\n",
      "Enter the items to check for in sub list: \"Malzahar\"\n",
      "The list does not have the sub list.\n"
     ]
    }
   ],
   "source": [
    "#WAP TO CHECK WHETHER A LIST CONTAINS A SUB LIST\n",
    "\n",
    "x = list(eval(input(\"Enter the items in list: \")))\n",
    "y = list(eval(input(\"Enter the items to check for in sub list: \")))\n",
    "flag = 1\n",
    "for i in y:\n",
    "    if i in x:\n",
    "        continue\n",
    "    else:\n",
    "        print(\"The list does not have the sub list.\")\n",
    "        flag = 0\n",
    "        break\n",
    "if(flag == 1):\n",
    "    print(\"The list has the sub list.\")"
   ]
  },
  {
   "cell_type": "code",
   "execution_count": 39,
   "metadata": {},
   "outputs": [
    {
     "name": "stdout",
     "output_type": "stream",
     "text": [
      "Enter the items in list: 1,2,3,3,3,4,5,6,6\n",
      "The unique items in the list are: \n",
      "{1, 2, 3, 4, 5, 6}\n"
     ]
    }
   ],
   "source": [
    "#WAP TO GET UNIQUE VALUE FROM A LIST\n",
    "\n",
    "x = list(eval(input(\"Enter the items in list: \")))\n",
    "print(\"The unique items in the list are: \")\n",
    "\n",
    "y = set(x)\n",
    "print(y)"
   ]
  }
 ],
 "metadata": {
  "kernelspec": {
   "display_name": "Python 3",
   "language": "python",
   "name": "python3"
  },
  "language_info": {
   "codemirror_mode": {
    "name": "ipython",
    "version": 3
   },
   "file_extension": ".py",
   "mimetype": "text/x-python",
   "name": "python",
   "nbconvert_exporter": "python",
   "pygments_lexer": "ipython3",
   "version": "3.7.3"
  }
 },
 "nbformat": 4,
 "nbformat_minor": 2
}
