{
 "cells": [
  {
   "cell_type": "markdown",
   "metadata": {},
   "source": [
    "# Tuple\n"
   ]
  },
  {
   "cell_type": "code",
   "execution_count": 1,
   "metadata": {},
   "outputs": [
    {
     "name": "stdout",
     "output_type": "stream",
     "text": [
      "(1, 2, 3, 'python', True, (12+10j), 12.05)\n",
      "<class 'tuple'>\n"
     ]
    }
   ],
   "source": [
    "x = (1,2,3,\"python\",True,12+10j,12.05)\n",
    "\n",
    "print(x)\n",
    "print(type(x))"
   ]
  },
  {
   "cell_type": "code",
   "execution_count": 2,
   "metadata": {},
   "outputs": [
    {
     "ename": "TypeError",
     "evalue": "'tuple' object does not support item assignment",
     "output_type": "error",
     "traceback": [
      "\u001b[1;31m---------------------------------------------------------------------------\u001b[0m",
      "\u001b[1;31mTypeError\u001b[0m                                 Traceback (most recent call last)",
      "\u001b[1;32m<ipython-input-2-cd7ad315a0d3>\u001b[0m in \u001b[0;36m<module>\u001b[1;34m\u001b[0m\n\u001b[0;32m      1\u001b[0m \u001b[1;31m# prove immutable\u001b[0m\u001b[1;33m\u001b[0m\u001b[1;33m\u001b[0m\u001b[1;33m\u001b[0m\u001b[0m\n\u001b[0;32m      2\u001b[0m \u001b[0mx\u001b[0m\u001b[1;33m=\u001b[0m\u001b[1;33m(\u001b[0m\u001b[1;36m1\u001b[0m\u001b[1;33m,\u001b[0m\u001b[1;36m2\u001b[0m\u001b[1;33m,\u001b[0m\u001b[1;36m3\u001b[0m\u001b[1;33m,\u001b[0m\u001b[1;34m\"python\"\u001b[0m\u001b[1;33m,\u001b[0m\u001b[1;32mTrue\u001b[0m\u001b[1;33m,\u001b[0m\u001b[1;36m12\u001b[0m\u001b[1;33m+\u001b[0m\u001b[1;36m10j\u001b[0m\u001b[1;33m,\u001b[0m\u001b[1;36m12.05\u001b[0m\u001b[1;33m)\u001b[0m\u001b[1;33m\u001b[0m\u001b[1;33m\u001b[0m\u001b[0m\n\u001b[1;32m----> 3\u001b[1;33m \u001b[0mx\u001b[0m\u001b[1;33m[\u001b[0m\u001b[1;36m2\u001b[0m\u001b[1;33m]\u001b[0m\u001b[1;33m=\u001b[0m\u001b[1;34m\"python\"\u001b[0m\u001b[1;33m\u001b[0m\u001b[1;33m\u001b[0m\u001b[0m\n\u001b[0m\u001b[0;32m      4\u001b[0m \u001b[0mprint\u001b[0m\u001b[1;33m(\u001b[0m\u001b[0mx\u001b[0m\u001b[1;33m)\u001b[0m\u001b[1;33m\u001b[0m\u001b[1;33m\u001b[0m\u001b[0m\n",
      "\u001b[1;31mTypeError\u001b[0m: 'tuple' object does not support item assignment"
     ]
    }
   ],
   "source": [
    "# prove immutable, i.e cannot be changed\n",
    "\n",
    "x = (1,2,3,\"python\",True,12+10j,12.05)\n",
    "\n",
    "x[2]=\"python\" #will not work\n",
    "print(x) # IMMUTABLE"
   ]
  },
  {
   "cell_type": "markdown",
   "metadata": {},
   "source": [
    "# Method of tuple"
   ]
  },
  {
   "cell_type": "code",
   "execution_count": 2,
   "metadata": {},
   "outputs": [
    {
     "name": "stdout",
     "output_type": "stream",
     "text": [
      "Enter the elements of tuple: 1,2,3,4,\"Batman\",\"Talon\",12+24j,69.69\n",
      "(1, 2, 3, 4, 'Batman', 'Talon', (12+24j), 69.69)\n",
      "<class 'tuple'>\n"
     ]
    }
   ],
   "source": [
    "#using eval\n",
    "\n",
    "x = eval(input(\"Enter the elements of tuple: \"))\n",
    "\n",
    "print(x)\n",
    "print(type(x))"
   ]
  },
  {
   "cell_type": "code",
   "execution_count": 6,
   "metadata": {},
   "outputs": [
    {
     "name": "stdout",
     "output_type": "stream",
     "text": [
      "1 2 3 python True (12+10j) 12.05 "
     ]
    }
   ],
   "source": [
    "#loop\n",
    "\n",
    "x = (1,2,3,\"python\",True,12+10j,12.05)\n",
    "\n",
    "for i in x:\n",
    "    print(i, end=\" \")"
   ]
  },
  {
   "cell_type": "code",
   "execution_count": 7,
   "metadata": {},
   "outputs": [
    {
     "name": "stdout",
     "output_type": "stream",
     "text": [
      "1\n",
      "2\n",
      "3\n",
      "python\n",
      "True\n",
      "(12+10j)\n",
      "12.05\n"
     ]
    }
   ],
   "source": [
    "#while\n",
    "\n",
    "x = (1,2,3,\"python\",True,12+10j,12.05)\n",
    "\n",
    "i=0 #init\n",
    "while i<len(x):\n",
    "    print(x[i])\n",
    "    i+=1 #increment"
   ]
  },
  {
   "cell_type": "code",
   "execution_count": 3,
   "metadata": {},
   "outputs": [
    {
     "name": "stdout",
     "output_type": "stream",
     "text": [
      "12.05\n",
      "12.05\n"
     ]
    }
   ],
   "source": [
    "#indexing\n",
    "\n",
    "x = (1,2,3,\"python\",True,12+10j,12.05)\n",
    "\n",
    "print(x[-1])\n",
    "print(x[6])"
   ]
  },
  {
   "cell_type": "code",
   "execution_count": 4,
   "metadata": {},
   "outputs": [
    {
     "name": "stdout",
     "output_type": "stream",
     "text": [
      "(2, 'python')\n",
      "(1, 2, 3, 'python', True, (12+10j))\n",
      "(1, 'python')\n"
     ]
    }
   ],
   "source": [
    "#slicing\n",
    "\n",
    "x = (1,2,3,\"python\",True,12+10j,12.05)\n",
    "\n",
    "print(x[1:5:2]) #start:end:stepsize\n",
    "print(x[0:6:1])\n",
    "print(x[0:6:3])"
   ]
  },
  {
   "cell_type": "code",
   "execution_count": 12,
   "metadata": {},
   "outputs": [
    {
     "name": "stdout",
     "output_type": "stream",
     "text": [
      "520\n",
      "-1\n",
      "9\n"
     ]
    }
   ],
   "source": [
    "#max\n",
    "#min\n",
    "#len\n",
    "\n",
    "x = (1,2,3,10,15,520,-1,58,1)\n",
    "\n",
    "print(max(x))\n",
    "print(min(x))\n",
    "print(len(x))"
   ]
  },
  {
   "cell_type": "code",
   "execution_count": 2,
   "metadata": {},
   "outputs": [
    {
     "name": "stdout",
     "output_type": "stream",
     "text": [
      "2\n"
     ]
    }
   ],
   "source": [
    "#index\n",
    "\n",
    "x = (1,2,3,\"python\",True,12+10j,12.05)\n",
    "\n",
    "print(x.index(3)) #returns first index of VALUE"
   ]
  },
  {
   "cell_type": "code",
   "execution_count": 11,
   "metadata": {},
   "outputs": [
    {
     "name": "stdout",
     "output_type": "stream",
     "text": [
      "3\n"
     ]
    }
   ],
   "source": [
    "#count\n",
    "\n",
    "y = (1,2,3,1,\"python\",True,12+10j,12.05) #True counts as 1\n",
    "\n",
    "print(y.count(True))"
   ]
  },
  {
   "cell_type": "code",
   "execution_count": 12,
   "metadata": {},
   "outputs": [
    {
     "name": "stdout",
     "output_type": "stream",
     "text": [
      "<class 'tuple'>\n",
      "(10, 20, 30, 40, 'Python')\n"
     ]
    }
   ],
   "source": [
    "#packing\n",
    "\n",
    "a = 10\n",
    "b = 20\n",
    "c = 30\n",
    "d = 40\n",
    "e = \"Python\"\n",
    "t = a,b,c,d,e\n",
    "\n",
    "print(type(t))\n",
    "print(t)"
   ]
  },
  {
   "cell_type": "code",
   "execution_count": 14,
   "metadata": {},
   "outputs": [
    {
     "name": "stdout",
     "output_type": "stream",
     "text": [
      "10\n",
      "20\n",
      "30\n",
      "40\n",
      "Python\n"
     ]
    }
   ],
   "source": [
    "#unpacking\n",
    "\n",
    "t=(10,20,30,40,\"Python\")\n",
    "\n",
    "a,b,c,d,e = t\n",
    "print(a)\n",
    "print(b)\n",
    "print(c)\n",
    "print(d)\n",
    "print(e)"
   ]
  },
  {
   "cell_type": "markdown",
   "metadata": {},
   "source": [
    "# set"
   ]
  },
  {
   "cell_type": "code",
   "execution_count": 6,
   "metadata": {},
   "outputs": [
    {
     "name": "stdout",
     "output_type": "stream",
     "text": [
      "{1, 2, 3, 12.05, 'python'}\n",
      "<class 'set'>\n"
     ]
    }
   ],
   "source": [
    "x= {1,2,3,\"python\",True,12.05}\n",
    "\n",
    "print(x)\n",
    "print(type(x))"
   ]
  },
  {
   "cell_type": "code",
   "execution_count": null,
   "metadata": {},
   "outputs": [],
   "source": []
  }
 ],
 "metadata": {
  "kernelspec": {
   "display_name": "Python 3",
   "language": "python",
   "name": "python3"
  },
  "language_info": {
   "codemirror_mode": {
    "name": "ipython",
    "version": 3
   },
   "file_extension": ".py",
   "mimetype": "text/x-python",
   "name": "python",
   "nbconvert_exporter": "python",
   "pygments_lexer": "ipython3",
   "version": "3.7.3"
  }
 },
 "nbformat": 4,
 "nbformat_minor": 2
}
