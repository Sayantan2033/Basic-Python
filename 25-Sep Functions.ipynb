{
 "cells": [
  {
   "cell_type": "markdown",
   "metadata": {},
   "source": [
    "# Functions"
   ]
  },
  {
   "cell_type": "raw",
   "metadata": {},
   "source": [
    "Types of functions:\n",
    "1. Pre-defined\n",
    "2. User-defined\n",
    "\n",
    "Syntax:\n",
    "def function_name(parameter):\n",
    "    \"doc string\" #optional\n",
    "    function suite\n",
    "    return expression\n",
    "    \n",
    "def demo():\n",
    "    print(\"Welcome to the function\")"
   ]
  },
  {
   "cell_type": "code",
   "execution_count": 1,
   "metadata": {},
   "outputs": [
    {
     "name": "stdout",
     "output_type": "stream",
     "text": [
      "Welcome to the function\n"
     ]
    }
   ],
   "source": [
    "def demo():\n",
    "    \"doc string\" #optional\n",
    "    print(\"Welcome to the function\")\n",
    "    \n",
    "demo()"
   ]
  },
  {
   "cell_type": "markdown",
   "metadata": {},
   "source": [
    "# Parameters"
   ]
  },
  {
   "cell_type": "raw",
   "metadata": {},
   "source": [
    "Input to the functions is called argument\n",
    "1. Required/positional\n",
    "2. Keyword\n",
    "3. Default\n",
    "4. Variable length"
   ]
  },
  {
   "cell_type": "code",
   "execution_count": 3,
   "metadata": {},
   "outputs": [
    {
     "name": "stdout",
     "output_type": "stream",
     "text": [
      "30\n",
      "-10\n",
      "200\n"
     ]
    }
   ],
   "source": [
    "#Required arguments\n",
    "#These are arguments passed to the function in positional order\n",
    "\n",
    "def add(a,b):\n",
    "    print(a+b)\n",
    "    print(a-b)\n",
    "    print(a*b)\n",
    "    \n",
    "add(10,20)"
   ]
  },
  {
   "cell_type": "raw",
   "metadata": {},
   "source": [
    "The number of arguments and position of argument must be matching. If we change the order then result will change. If we change the number of arguments then we will get error."
   ]
  },
  {
   "cell_type": "code",
   "execution_count": 1,
   "metadata": {},
   "outputs": [
    {
     "name": "stdout",
     "output_type": "stream",
     "text": [
      "Enter the value of x: 10\n",
      "Enter the value of y: 20\n",
      "30\n",
      "-10\n",
      "200\n"
     ]
    }
   ],
   "source": [
    "def add(a,b):\n",
    "    print(a+b)\n",
    "    print(a-b)\n",
    "    print(a*b)\n",
    "    \n",
    "x = int(input(\"Enter the value of x: \"))\n",
    "y = int(input(\"Enter the value of y: \"))\n",
    "    \n",
    "add(x,y)"
   ]
  },
  {
   "cell_type": "code",
   "execution_count": 2,
   "metadata": {},
   "outputs": [
    {
     "name": "stdout",
     "output_type": "stream",
     "text": [
      "30\n",
      "-10\n",
      "200\n"
     ]
    }
   ],
   "source": [
    "#Keyword argument\n",
    "#These can be sent in any order and assigned within the passing\n",
    "\n",
    "def add(a,b):\n",
    "    print(a+b)\n",
    "    print(a-b)\n",
    "    print(a*b)\n",
    "    \n",
    "add(a = 10, b = 20)"
   ]
  },
  {
   "cell_type": "code",
   "execution_count": 1,
   "metadata": {},
   "outputs": [
    {
     "name": "stdout",
     "output_type": "stream",
     "text": [
      "30\n",
      "-10\n",
      "200\n",
      "50\n",
      "-10\n",
      "600\n"
     ]
    }
   ],
   "source": [
    "#Default argument\n",
    "\n",
    "def add(a = 20,b = 30):\n",
    "    print(a+b)\n",
    "    print(a-b)\n",
    "    print(a*b)\n",
    "    \n",
    "add(10,20)\n",
    "add()"
   ]
  },
  {
   "cell_type": "code",
   "execution_count": 10,
   "metadata": {},
   "outputs": [
    {
     "name": "stdout",
     "output_type": "stream",
     "text": [
      "30\n",
      "-10\n",
      "70\n",
      "-10\n"
     ]
    }
   ],
   "source": [
    "#Variable length arguments\n",
    "\n",
    "def add(*values):\n",
    "    print(values[0]+values[1])\n",
    "    print(values[0]-values[1])\n",
    "    print(values[2]+values[3])\n",
    "    print(values[2]-values[3])\n",
    "    \n",
    "add(10,20,30,40)"
   ]
  },
  {
   "cell_type": "markdown",
   "metadata": {},
   "source": [
    "# Return statement"
   ]
  },
  {
   "cell_type": "code",
   "execution_count": 13,
   "metadata": {},
   "outputs": [
    {
     "name": "stdout",
     "output_type": "stream",
     "text": [
      "The sum is: 30\n"
     ]
    }
   ],
   "source": [
    "def add(a,b):\n",
    "    return a+b\n",
    "\n",
    "c = add(10,20)\n",
    "print(\"The sum is:\",c)"
   ]
  },
  {
   "cell_type": "code",
   "execution_count": 15,
   "metadata": {},
   "outputs": [
    {
     "name": "stdout",
     "output_type": "stream",
     "text": [
      "The sum is: 30 and the difference is: -10\n"
     ]
    }
   ],
   "source": [
    "#Multiple return statement\n",
    "\n",
    "def add_sub(a,b):\n",
    "    return a+b, a-b\n",
    "\n",
    "c, d = add_sub(10,20)\n",
    "print(\"The sum is:\",c,\"and the difference is:\",d)"
   ]
  },
  {
   "cell_type": "code",
   "execution_count": 17,
   "metadata": {},
   "outputs": [
    {
     "name": "stdout",
     "output_type": "stream",
     "text": [
      "70\n",
      "30\n",
      "30\n"
     ]
    }
   ],
   "source": [
    "#Variable\n",
    "\n",
    "#local\n",
    "#global\n",
    "\n",
    "a = 10\n",
    "b = 20\n",
    "\n",
    "def add(x1,y1):\n",
    "    print(x1+y1)\n",
    "    print(a+b)\n",
    "    \n",
    "add(30,40)\n",
    "\n",
    "print(a+b) #global variables\n",
    "#print(x1+y1) will not work"
   ]
  },
  {
   "cell_type": "markdown",
   "metadata": {},
   "source": [
    "# Anonymous function"
   ]
  },
  {
   "cell_type": "raw",
   "metadata": {},
   "source": [
    "A function without name is called anonymous function. It is used for instant purpose. We can implement it by using lambda keyword."
   ]
  },
  {
   "cell_type": "code",
   "execution_count": 2,
   "metadata": {},
   "outputs": [
    {
     "name": "stdout",
     "output_type": "stream",
     "text": [
      "The sum is: 35\n"
     ]
    }
   ],
   "source": [
    "#WAP to input two numbers and print their sum\n",
    "\n",
    "sum = lambda a,b: a+b\n",
    "\n",
    "print(\"The sum is:\",sum(10,25))"
   ]
  },
  {
   "cell_type": "code",
   "execution_count": 23,
   "metadata": {},
   "outputs": [
    {
     "name": "stdout",
     "output_type": "stream",
     "text": [
      "The sum is: -15\n"
     ]
    }
   ],
   "source": [
    "diff = lambda a,b: (a-b)\n",
    "\n",
    "print(\"The sum is:\", diff(10,25))"
   ]
  },
  {
   "cell_type": "code",
   "execution_count": 10,
   "metadata": {},
   "outputs": [
    {
     "name": "stdout",
     "output_type": "stream",
     "text": [
      "Enter the number to find the factorial of: 6\n",
      "The factorial of 6 is: 720\n"
     ]
    }
   ],
   "source": [
    "#WAP to input a number and print its factorial\n",
    "\n",
    "def factorial(a):\n",
    "    \"Factorial is the product of an integer and all the integers below it.\"\n",
    "    fac = 1\n",
    "    for i in range(1,a+1):\n",
    "        fac *= i\n",
    "    return fac\n",
    "\n",
    "n = int(input(\"Enter the number to find the factorial of: \"))\n",
    "print(\"The factorial of\", n, \"is:\", factorial(n))"
   ]
  },
  {
   "cell_type": "raw",
   "metadata": {},
   "source": [
    "Map filter reduce aliasing\n",
    "\n",
    "Study the difference between the first three"
   ]
  },
  {
   "cell_type": "code",
   "execution_count": 12,
   "metadata": {},
   "outputs": [
    {
     "name": "stdout",
     "output_type": "stream",
     "text": [
      "Enter the elements to get a squared list of: 1,2,3,4,5,6\n",
      "[1, 4, 9, 16, 25, 36]\n"
     ]
    }
   ],
   "source": [
    "#Map takes a function and list as argument as is used to apply an algo to every list element\n",
    "\n",
    "n = list(eval(input(\"Enter the elements to get a squared list of: \")))\n",
    "\n",
    "squares = list(map(lambda x: x*x, n))\n",
    "print(squares)"
   ]
  },
  {
   "cell_type": "code",
   "execution_count": 13,
   "metadata": {},
   "outputs": [
    {
     "name": "stdout",
     "output_type": "stream",
     "text": [
      "Enter the elements to find the even numbers in: 1,2,3,4,5,6,7,8,9,10\n",
      "[2, 4, 6, 8, 10]\n"
     ]
    }
   ],
   "source": [
    "#Filter is used to filter out the elements of a list based on a condition\n",
    "\n",
    "n = list(eval(input(\"Enter the elements to find the even numbers in: \")))\n",
    "\n",
    "even_numbers = list(filter(lambda x: x%2==0, n))\n",
    "print(even_numbers)"
   ]
  },
  {
   "cell_type": "code",
   "execution_count": 2,
   "metadata": {},
   "outputs": [
    {
     "name": "stdout",
     "output_type": "stream",
     "text": [
      "Enter the elements to find the sum of: 1,2,3,4,5,6\n",
      "21\n"
     ]
    }
   ],
   "source": [
    "#Reduce is used to perform a repetitive/iterative algo on a list and takes in a list and returns a single value\n",
    "#IT HAS TO BE IMPORTED FROM functools\n",
    "\n",
    "from functools import reduce\n",
    "#import functools\n",
    "\n",
    "n = list(eval(input(\"Enter the elements to find the sum of: \")))\n",
    "\n",
    "sum = reduce(lambda x,y: x+y, n)\n",
    "print(sum)"
   ]
  },
  {
   "cell_type": "code",
   "execution_count": null,
   "metadata": {},
   "outputs": [],
   "source": []
  }
 ],
 "metadata": {
  "kernelspec": {
   "display_name": "Python 3",
   "language": "python",
   "name": "python3"
  },
  "language_info": {
   "codemirror_mode": {
    "name": "ipython",
    "version": 3
   },
   "file_extension": ".py",
   "mimetype": "text/x-python",
   "name": "python",
   "nbconvert_exporter": "python",
   "pygments_lexer": "ipython3",
   "version": "3.7.3"
  }
 },
 "nbformat": 4,
 "nbformat_minor": 2
}
