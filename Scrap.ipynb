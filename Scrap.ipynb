{
 "cells": [
  {
   "cell_type": "code",
   "execution_count": null,
   "metadata": {},
   "outputs": [],
   "source": [
    "def divide_num(arr):\n",
    "    for i in arr[:-1]:\n",
    "        print(i/2, end=\", \")\n",
    "    print(arr[-1]/2)    \n",
    "divide_num([2,4,6,8,10])"
   ]
  },
  {
   "cell_type": "code",
   "execution_count": null,
   "metadata": {},
   "outputs": [],
   "source": [
    "def find_fruit(fruits, name):\n",
    "    if name in fruits:\n",
    "        return fruits.index(name)\n",
    "    else:\n",
    "        return -1\n",
    "    \n",
    "print(find_fruit([\"Apple\", \"Mango\", \"Banana\"], \"Mango\"))"
   ]
  },
  {
   "cell_type": "code",
   "execution_count": null,
   "metadata": {},
   "outputs": [],
   "source": [
    "from math import sqrt as squareRoot"
   ]
  },
  {
   "cell_type": "code",
   "execution_count": null,
   "metadata": {},
   "outputs": [],
   "source": [
    "squareRoot(4)"
   ]
  },
  {
   "cell_type": "code",
   "execution_count": 3,
   "metadata": {},
   "outputs": [
    {
     "name": "stdout",
     "output_type": "stream",
     "text": [
      "2\n",
      "3\n",
      "5\n",
      "7\n",
      "11\n",
      "13\n",
      "17\n",
      "19\n",
      "23\n",
      "29\n",
      "31\n",
      "37\n",
      "41\n",
      "43\n",
      "47\n",
      "53\n",
      "59\n",
      "61\n",
      "67\n",
      "71\n",
      "73\n",
      "79\n",
      "83\n",
      "89\n",
      "97\n"
     ]
    }
   ],
   "source": [
    "p = 2\n",
    "while p<=100:\n",
    "    is_prime = True\n",
    "    for i in range(2,p):\n",
    "        if p%i==0:\n",
    "            is_prime = False\n",
    "            continue\n",
    "    if is_prime == True:\n",
    "        print(p)\n",
    "    p = p + 1"
   ]
  },
  {
   "cell_type": "code",
   "execution_count": null,
   "metadata": {},
   "outputs": [],
   "source": [
    "p = 2\n",
    "while p<=100:\n",
    "    \n",
    "    for i in range(2,p):\n",
    "        if p%i==0:\n",
    "            is_prime = False\n",
    "            p = p + 1\n",
    "        if is_prime == True:\n",
    "            print(p)\n",
    "    p = p + 1"
   ]
  },
  {
   "cell_type": "code",
   "execution_count": 12,
   "metadata": {},
   "outputs": [
    {
     "name": "stdout",
     "output_type": "stream",
     "text": [
      "Please enter the integer: 1000\n",
      "The highest number of consecutive 1s in the binary representation is: 5\n"
     ]
    }
   ],
   "source": [
    "n = int(input(\"Please enter the integer: \"))\n",
    "\n",
    "b = bin(n) #Converts to binary\n",
    "\n",
    "b = b[2:] #removing the 0b\n",
    "\n",
    "l = b.split(\"0\")\n",
    "\n",
    "print(\"The highest number of consecutive 1s in the binary representation is:\", len(max(l)))"
   ]
  },
  {
   "cell_type": "code",
   "execution_count": 4,
   "metadata": {},
   "outputs": [
    {
     "name": "stdout",
     "output_type": "stream",
     "text": [
      "1 2 3 4 5 6\n",
      "1 2 3 4 5 6\n",
      "1 2 3 4 5 6\n",
      "1 2 3 4 5 6\n",
      "1 2 3 4 5 6\n",
      "1 2 3 4 5 6\n",
      "The greatest hourglass sum is: 35\n"
     ]
    }
   ],
   "source": [
    "arr = []\n",
    "\n",
    "for _ in range(6):\n",
    "    arr.append(list(map(int, input().rstrip().split())))\n",
    "    \n",
    "#Finding all hourglass sums\n",
    "sums = []\n",
    "i = 0\n",
    "j = 0\n",
    "while i < 4:\n",
    "    while j < 4:\n",
    "        sums.append(arr[i][j] + arr[i][j+1] + arr[i][j+2] + arr[i+1][j+1] + arr[i+2][j]\n",
    "                   + arr[i+2][j+1] + arr[i+2][j+2])\n",
    "        j += 1\n",
    "    i += 1\n",
    "\n",
    "print(\"The greatest hourglass sum is:\", max(sums))"
   ]
  },
  {
   "cell_type": "code",
   "execution_count": null,
   "metadata": {},
   "outputs": [],
   "source": []
  }
 ],
 "metadata": {
  "kernelspec": {
   "display_name": "Python 3",
   "language": "python",
   "name": "python3"
  },
  "language_info": {
   "codemirror_mode": {
    "name": "ipython",
    "version": 3
   },
   "file_extension": ".py",
   "mimetype": "text/x-python",
   "name": "python",
   "nbconvert_exporter": "python",
   "pygments_lexer": "ipython3",
   "version": "3.7.3"
  }
 },
 "nbformat": 4,
 "nbformat_minor": 2
}
