{
 "cells": [
  {
   "cell_type": "markdown",
   "metadata": {},
   "source": [
    "# Function aliasing"
   ]
  },
  {
   "cell_type": "code",
   "execution_count": 1,
   "metadata": {},
   "outputs": [
    {
     "name": "stdout",
     "output_type": "stream",
     "text": [
      "Good morning Sayantan\n",
      "Good morning Saha\n"
     ]
    }
   ],
   "source": [
    "#Assigning a function name to another function\n",
    "\n",
    "def wish(name):\n",
    "    print(\"Good morning\", name)\n",
    "\n",
    "#Aliasing\n",
    "greeting = wish\n",
    "\n",
    "greeting(\"Sayantan\")\n",
    "wish(\"Saha\")"
   ]
  },
  {
   "cell_type": "code",
   "execution_count": 3,
   "metadata": {},
   "outputs": [
    {
     "name": "stdout",
     "output_type": "stream",
     "text": [
      "Enter your name: Sayantan\n",
      "Good morning Sayantan\n",
      "Good morning Sayantan\n"
     ]
    }
   ],
   "source": [
    "name = input(\"Enter your name: \")\n",
    "def wish(name):\n",
    "    print(\"Good morning\", name)\n",
    "\n",
    "#Aliasing\n",
    "greeting = wish\n",
    "\n",
    "greeting(name)\n",
    "wish(name)"
   ]
  },
  {
   "cell_type": "markdown",
   "metadata": {},
   "source": [
    "# Nested functions"
   ]
  },
  {
   "cell_type": "code",
   "execution_count": 5,
   "metadata": {},
   "outputs": [
    {
     "name": "stdout",
     "output_type": "stream",
     "text": [
      "Outer function started.\n",
      "Outer function calling inner function.\n",
      "Inner function execution.\n"
     ]
    }
   ],
   "source": [
    "def outer():\n",
    "    print(\"Outer function started.\")\n",
    "    def inner():\n",
    "        print(\"Inner function execution.\")\n",
    "    print(\"Outer function calling inner function.\")\n",
    "    inner()\n",
    "    \n",
    "outer()\n",
    "#inner()\n",
    "#this function cannot be called outside of the parent function"
   ]
  },
  {
   "cell_type": "markdown",
   "metadata": {},
   "source": [
    "# String handling"
   ]
  },
  {
   "cell_type": "code",
   "execution_count": 11,
   "metadata": {},
   "outputs": [
    {
     "name": "stdout",
     "output_type": "stream",
     "text": [
      "python\n",
      "python\n",
      "p\n",
      "y\n",
      "t\n",
      "h\n",
      "o\n",
      "n\n"
     ]
    }
   ],
   "source": [
    "x = 'python' #single quotes and single line string\n",
    "y = \"python\" #double quotes and single lne string\n",
    "z = '''p\n",
    "y\n",
    "t\n",
    "h\n",
    "o\n",
    "n''' #triple quotes and multiline string\n",
    "print(x)\n",
    "print(y)\n",
    "print(z)"
   ]
  },
  {
   "cell_type": "markdown",
   "metadata": {},
   "source": [
    "# Methods of string"
   ]
  },
  {
   "cell_type": "code",
   "execution_count": 12,
   "metadata": {},
   "outputs": [
    {
     "name": "stdout",
     "output_type": "stream",
     "text": [
      "N\n",
      "Y\n"
     ]
    }
   ],
   "source": [
    "#indexing\n",
    "x = \"PYTHON\"\n",
    "print(x[-1])\n",
    "print(x[1])"
   ]
  },
  {
   "cell_type": "code",
   "execution_count": 14,
   "metadata": {},
   "outputs": [
    {
     "name": "stdout",
     "output_type": "stream",
     "text": [
      "ysae yrev si nohtyp\n"
     ]
    }
   ],
   "source": [
    "#slicing\n",
    "x = \"python is very easy\"\n",
    "print(x[::-1])"
   ]
  },
  {
   "cell_type": "code",
   "execution_count": 16,
   "metadata": {},
   "outputs": [
    {
     "name": "stdout",
     "output_type": "stream",
     "text": [
      "python is very easy"
     ]
    }
   ],
   "source": [
    "#loops\n",
    "\n",
    "x = \"python is very easy\"\n",
    "for i in x:\n",
    "    print(i, end=\"\")"
   ]
  },
  {
   "cell_type": "code",
   "execution_count": 18,
   "metadata": {},
   "outputs": [
    {
     "name": "stdout",
     "output_type": "stream",
     "text": [
      "python is very easy"
     ]
    }
   ],
   "source": [
    "#while loop\n",
    "x = \"python is very easy\"\n",
    "\n",
    "i = 0\n",
    "while i<len(x):\n",
    "    print(x[i], end=\"\")\n",
    "    i+=1"
   ]
  },
  {
   "cell_type": "code",
   "execution_count": 19,
   "metadata": {},
   "outputs": [
    {
     "name": "stdout",
     "output_type": "stream",
     "text": [
      "['python', 'is', 'very', 'easy']\n"
     ]
    }
   ],
   "source": [
    "#split()\n",
    "x = \"python is very easy\"\n",
    "print(x.split())"
   ]
  },
  {
   "cell_type": "code",
   "execution_count": 20,
   "metadata": {},
   "outputs": [
    {
     "name": "stdout",
     "output_type": "stream",
     "text": [
      "['python is v', 'ry ', 'asy']\n"
     ]
    }
   ],
   "source": [
    "#split()\n",
    "x = \"python is very easy\"\n",
    "print(x.split('e'))"
   ]
  },
  {
   "cell_type": "code",
   "execution_count": 26,
   "metadata": {},
   "outputs": [
    {
     "name": "stdout",
     "output_type": "stream",
     "text": [
      "enter password=   Gaurav \n",
      "wrong password\n"
     ]
    }
   ],
   "source": [
    "#strip()\n",
    "x = input(\"enter password: \")\n",
    "if x==\"Gaurav\":\n",
    "    print(\"you enter correct password\")\n",
    "else:\n",
    "    print(\"wrong password\")"
   ]
  },
  {
   "cell_type": "code",
   "execution_count": 30,
   "metadata": {},
   "outputs": [
    {
     "name": "stdout",
     "output_type": "stream",
     "text": [
      "enter password= Gaurav \n",
      "you enter correct password\n"
     ]
    }
   ],
   "source": [
    "#strip()\n",
    "x = input(\"enter password: \")\n",
    "x = x.strip()\n",
    "if x==\"Gaurav\":\n",
    "    print(\"you enter correct password\")\n",
    "else:\n",
    "    print(\"wrong password\")"
   ]
  },
  {
   "cell_type": "code",
   "execution_count": 32,
   "metadata": {},
   "outputs": [
    {
     "name": "stdout",
     "output_type": "stream",
     "text": [
      "enter password= Gaurav   \n",
      "wrong password\n"
     ]
    }
   ],
   "source": [
    "#left strip\n",
    "x = input(\"enter password: \")\n",
    "x = x.lstrip()\n",
    "if x==\"Gaurav\":\n",
    "    print(\"you enter correct password\")\n",
    "else:\n",
    "    print(\"wrong password\")"
   ]
  },
  {
   "cell_type": "code",
   "execution_count": 33,
   "metadata": {},
   "outputs": [
    {
     "name": "stdout",
     "output_type": "stream",
     "text": [
      "enter password= Gaurav \n",
      "you enter correct password\n"
     ]
    }
   ],
   "source": [
    "#right strip\n",
    "x = input(\"enter password: \")\n",
    "x = x.rstrip()\n",
    "if x==\"Gaurav\":\n",
    "    print(\"you enter correct password\")\n",
    "else:\n",
    "    print(\"wrong password\")"
   ]
  },
  {
   "cell_type": "code",
   "execution_count": 35,
   "metadata": {},
   "outputs": [
    {
     "name": "stdout",
     "output_type": "stream",
     "text": [
      "python is very easy\n",
      "PYTHON IS VERY EASY\n",
      "Python is very easy\n"
     ]
    }
   ],
   "source": [
    "# lower\n",
    "# upper\n",
    "# capitalize\n",
    "x = \"PYTHON IS very easy\"\n",
    "print(x.lower())\n",
    "x = \"python is very easy\"\n",
    "print(x.upper())\n",
    "x = \"python is very easy\"\n",
    "print(x.capitalize())\n"
   ]
  }
 ],
 "metadata": {
  "kernelspec": {
   "display_name": "Python 3",
   "language": "python",
   "name": "python3"
  },
  "language_info": {
   "codemirror_mode": {
    "name": "ipython",
    "version": 3
   },
   "file_extension": ".py",
   "mimetype": "text/x-python",
   "name": "python",
   "nbconvert_exporter": "python",
   "pygments_lexer": "ipython3",
   "version": "3.7.3"
  }
 },
 "nbformat": 4,
 "nbformat_minor": 2
}
