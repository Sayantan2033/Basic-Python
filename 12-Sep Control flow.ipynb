{
 "cells": [
  {
   "cell_type": "markdown",
   "metadata": {},
   "source": [
    "# Iterative control"
   ]
  },
  {
   "cell_type": "code",
   "execution_count": 7,
   "metadata": {},
   "outputs": [
    {
     "name": "stdout",
     "output_type": "stream",
     "text": [
      "1 2 3 4 5 6 7 8 9 10 11 12 13 14 15 16 17 18 19 20 21 22 23 24 25 26 27 28 29 30 31 32 33 34 35 36 37 38 39 40 41 42 43 44 45 46 47 48 49 50 51 52 53 54 55 56 57 58 59 60 61 62 63 64 65 66 67 68 69 70 71 72 73 74 75 76 77 78 79 80 81 82 83 84 85 86 87 88 89 90 91 92 93 94 95 96 97 98 99 100 \n",
      "This was a while loop\n"
     ]
    }
   ],
   "source": [
    "#while loop\n",
    "\n",
    "i = 1\n",
    "\n",
    "while i <= 100:\n",
    "    print(i, end = \" \")\n",
    "    i+=1\n",
    "\n",
    "print(\"\\nThis was a while loop\")"
   ]
  },
  {
   "cell_type": "code",
   "execution_count": 4,
   "metadata": {},
   "outputs": [
    {
     "name": "stdout",
     "output_type": "stream",
     "text": [
      "100 99 98 97 96 95 94 93 92 91 90 89 88 87 86 85 84 83 82 81 80 79 78 77 76 75 74 73 72 71 70 69 68 67 66 65 64 63 62 61 60 59 58 57 56 55 54 53 52 51 50 49 48 47 46 45 44 43 42 41 40 39 38 37 36 35 34 33 32 31 30 29 28 27 26 25 24 23 22 21 20 19 18 17 16 15 14 13 12 11 10 9 8 7 6 5 4 3 2 1 0 "
     ]
    }
   ],
   "source": [
    "i = 100\n",
    "\n",
    "while i >= 0:\n",
    "    print(i, end = \" \")\n",
    "    i-=1"
   ]
  },
  {
   "cell_type": "code",
   "execution_count": 17,
   "metadata": {},
   "outputs": [
    {
     "name": "stdout",
     "output_type": "stream",
     "text": [
      "Enter a number to find the digit sum of: 5555\n",
      "The digit sum:  20\n"
     ]
    }
   ],
   "source": [
    "#WAP to input  a number and print the digit sum\n",
    "\n",
    "n = int(input(\"Enter a number to find the digit sum of: \"))\n",
    "\n",
    "sum = 0\n",
    "\n",
    "while(n>0):\n",
    "    d = n%10\n",
    "    sum += d\n",
    "    n = n//10 #floor division\n",
    "\n",
    "print(\"The digit sum: \", sum)"
   ]
  },
  {
   "cell_type": "markdown",
   "metadata": {},
   "source": [
    "1. WAP to input a number and print their digit sum at each stage\n",
    "2. WAP to input a number and print it in reverse order\n",
    "3. WAP to input a number and check whether it is a palindrome or not\n",
    "4. WAP to input a number and check whether it is armstrong or not\n",
    "5. WAP to input a number and check whether it is prime or not"
   ]
  },
  {
   "cell_type": "code",
   "execution_count": 2,
   "metadata": {},
   "outputs": [
    {
     "name": "stdout",
     "output_type": "stream",
     "text": [
      "Enter a number to find the digit sum of: 131231\n",
      "The digit sum at this stage is: 1\n",
      "The digit sum at this stage is: 4\n",
      "The digit sum at this stage is: 6\n",
      "The digit sum at this stage is: 7\n",
      "The digit sum at this stage is: 10\n",
      "The digit sum at this stage is: 11\n",
      "The total digit sum:  11\n"
     ]
    }
   ],
   "source": [
    "#WAP to input a number and print the digit sum at each stage\n",
    "\n",
    "n = int(input(\"Enter a number to find the digit sum of: \"))\n",
    "\n",
    "sum = 0\n",
    "\n",
    "while(n>0):\n",
    "    d = n%10\n",
    "    sum += d\n",
    "    print(\"The digit sum at this stage is:\", sum)\n",
    "    n = n//10 #floor division\n",
    "\n",
    "print(\"The total digit sum: \", sum)"
   ]
  },
  {
   "cell_type": "code",
   "execution_count": 5,
   "metadata": {},
   "outputs": [
    {
     "name": "stdout",
     "output_type": "stream",
     "text": [
      "Enter a number to find the reverse of: 123\n",
      "The reverse is:  321\n"
     ]
    }
   ],
   "source": [
    "#WAP to input a number and print it in reverse order\n",
    "\n",
    "n = int(input(\"Enter a number to find the reverse of: \"))\n",
    "\n",
    "rev = 0\n",
    "\n",
    "while(n>0):\n",
    "    d = n%10\n",
    "    rev = (rev*10) + d\n",
    "    n = n//10 #floor division\n",
    "\n",
    "print(\"The reverse is: \", rev)"
   ]
  },
  {
   "cell_type": "code",
   "execution_count": 7,
   "metadata": {},
   "outputs": [
    {
     "name": "stdout",
     "output_type": "stream",
     "text": [
      "Enter a number to find whether it is a palindrome or not: 134\n",
      "134 is not a palindrome.\n"
     ]
    }
   ],
   "source": [
    "#WAP to input a number and check whether it is a palindrome or not\n",
    "\n",
    "n = int(input(\"Enter a number to find whether it is a palindrome or not: \"))\n",
    "temp = n\n",
    "rev = 0\n",
    "\n",
    "while(n>0):\n",
    "    d = n%10\n",
    "    rev = (rev*10) + d\n",
    "    n = n//10 #floor division\n",
    "    \n",
    "if(rev == temp):\n",
    "    print(temp, \"is a palindrome.\")\n",
    "else:\n",
    "    print(temp, \"is not a palindrome.\")"
   ]
  },
  {
   "cell_type": "code",
   "execution_count": 8,
   "metadata": {},
   "outputs": [
    {
     "name": "stdout",
     "output_type": "stream",
     "text": [
      "Enter a number to find whether it is armstrong or not: 153\n",
      "153 is armstrong.\n"
     ]
    }
   ],
   "source": [
    "#WAP to input a number and check whether it is armstrong or not\n",
    "\n",
    "n = int(input(\"Enter a number to find whether it is armstrong or not: \"))\n",
    "temp = n\n",
    "a_sum = 0\n",
    "\n",
    "while(n>0):\n",
    "    d = n%10\n",
    "    a_sum += d*d*d\n",
    "    n = n//10\n",
    "    \n",
    "if(a_sum == temp):\n",
    "    print(temp, \"is armstrong.\")\n",
    "else:\n",
    "    print(temp, \"is not armstrong.\")"
   ]
  },
  {
   "cell_type": "code",
   "execution_count": 12,
   "metadata": {},
   "outputs": [
    {
     "name": "stdout",
     "output_type": "stream",
     "text": [
      "Enter a number to find whether it is prime or not: 6\n",
      "The number is not prime.\n"
     ]
    }
   ],
   "source": [
    "#WAP to input a number and check whether it is prime or not\n",
    "\n",
    "n = int(input(\"Enter a number to find whether it is prime or not: \"))\n",
    "\n",
    "flag = 0\n",
    "\n",
    "for i in range (1,n):\n",
    "    if(n % i == 0):\n",
    "        flag += 1\n",
    "\n",
    "if(flag == 1):\n",
    "    print(\"The number is prime.\")\n",
    "else:\n",
    "    print(\"The number is not prime.\")"
   ]
  },
  {
   "cell_type": "markdown",
   "metadata": {},
   "source": [
    "# Infinite loop"
   ]
  },
  {
   "cell_type": "code",
   "execution_count": null,
   "metadata": {},
   "outputs": [],
   "source": [
    "#Never again"
   ]
  },
  {
   "cell_type": "code",
   "execution_count": 11,
   "metadata": {},
   "outputs": [
    {
     "name": "stdout",
     "output_type": "stream",
     "text": [
      "Enter the number of lines: 5\n",
      "\n",
      "* \n",
      "* * \n",
      "* * * \n",
      "* * * * \n",
      "* * * * * \n"
     ]
    }
   ],
   "source": [
    "#WAP to print star stair based on user input\n",
    "\n",
    "n = int(input(\"Enter the number of lines: \"))\n",
    "\n",
    "#i = 1\n",
    "\n",
    "for i in range(1,n+1):\n",
    "    for x in range(1,i+1):\n",
    "        print(\"*\", end = \" \")\n",
    "    print()"
   ]
  },
  {
   "cell_type": "code",
   "execution_count": 14,
   "metadata": {},
   "outputs": [
    {
     "name": "stdout",
     "output_type": "stream",
     "text": [
      "Enter the number of lines: 5\n",
      "1 \n",
      "1 2 \n",
      "1 2 3 \n",
      "1 2 3 4 \n",
      "1 2 3 4 5 \n"
     ]
    }
   ],
   "source": [
    "## Row Implementation\n",
    "\n",
    "n = int(input(\"Enter the number of lines: \"))\n",
    "\n",
    "#i = 1\n",
    "\n",
    "for i in range(1,n+1):\n",
    "    for x in range(1,i+1):\n",
    "        print(x, end = \" \")\n",
    "    print()"
   ]
  },
  {
   "cell_type": "code",
   "execution_count": 15,
   "metadata": {},
   "outputs": [
    {
     "name": "stdout",
     "output_type": "stream",
     "text": [
      "Enter the number of lines: 5\n",
      "1 \n",
      "2 2 \n",
      "3 3 3 \n",
      "4 4 4 4 \n",
      "5 5 5 5 5 \n"
     ]
    }
   ],
   "source": [
    "## Column Implementation\n",
    "\n",
    "n = int(input(\"Enter the number of lines: \"))\n",
    "\n",
    "#i = 1\n",
    "\n",
    "for i in range(1,n+1):\n",
    "    for x in range(1,i+1):\n",
    "        print(i, end = \" \")\n",
    "    print()"
   ]
  },
  {
   "cell_type": "raw",
   "metadata": {},
   "source": [
    "1. WAP to print the following, based on user input:\n",
    "    *\n",
    "   **\n",
    "  ***\n",
    " ****\n",
    "*****\n",
    "2. WAP to print the following, based on user input:\n",
    "    *\n",
    "   ***\n",
    "  *****\n",
    " *******\n",
    "*********"
   ]
  },
  {
   "cell_type": "code",
   "execution_count": 16,
   "metadata": {},
   "outputs": [
    {
     "name": "stdout",
     "output_type": "stream",
     "text": [
      "Enter the number of lines: 5\n",
      "        * \n",
      "      * * \n",
      "    * * * \n",
      "  * * * * \n",
      "* * * * * \n"
     ]
    }
   ],
   "source": [
    "#Number 1\n",
    "\n",
    "n = int(input(\"Enter the number of lines: \"))\n",
    "\n",
    "#i = 1\n",
    "\n",
    "for i in range(1,n+1):\n",
    "    for j in range(n-i):\n",
    "        print(\" \", end = \" \")\n",
    "    for x in range(1,i+1):\n",
    "        print(\"*\", end = \" \")\n",
    "    print()"
   ]
  },
  {
   "cell_type": "code",
   "execution_count": 26,
   "metadata": {},
   "outputs": [
    {
     "name": "stdout",
     "output_type": "stream",
     "text": [
      "Enter the number of lines: 7\n",
      "            * \n",
      "          * * * \n",
      "        * * * * * \n",
      "      * * * * * * * \n",
      "    * * * * * * * * * \n",
      "  * * * * * * * * * * * \n",
      "* * * * * * * * * * * * * \n"
     ]
    }
   ],
   "source": [
    "#Number 2\n",
    "\n",
    "n = int(input(\"Enter the number of lines: \"))\n",
    "\n",
    "#i = 1\n",
    "\n",
    "for i in range(1,n+1):\n",
    "    for j in range(n-i):\n",
    "        print(\" \", end = \" \")\n",
    "    for x in range(1,i+i):\n",
    "        print(\"*\", end = \" \")\n",
    "    print()"
   ]
  },
  {
   "cell_type": "markdown",
   "metadata": {},
   "source": [
    "# Transfer statements"
   ]
  },
  {
   "cell_type": "code",
   "execution_count": 17,
   "metadata": {},
   "outputs": [
    {
     "name": "stdout",
     "output_type": "stream",
     "text": [
      "0\n",
      "1\n",
      "2\n",
      "3\n",
      "4\n",
      "5\n",
      "6\n",
      "OOTL\n"
     ]
    }
   ],
   "source": [
    "for i in  range(10):\n",
    "    if i == 7:\n",
    "        break\n",
    "    print(i)\n",
    "print(\"OOTL\")"
   ]
  },
  {
   "cell_type": "code",
   "execution_count": 19,
   "metadata": {},
   "outputs": [
    {
     "name": "stdout",
     "output_type": "stream",
     "text": [
      "0\n",
      "1\n",
      "2\n",
      "3\n",
      "4\n",
      "5\n",
      "6\n",
      "7\n",
      "8\n",
      "9\n",
      "OOTL\n"
     ]
    }
   ],
   "source": [
    "for i in  range(10):\n",
    "    if i == 7:\n",
    "        if i == 6+1:\n",
    "            pass\n",
    "    print(i)\n",
    "print(\"OOTL\")"
   ]
  },
  {
   "cell_type": "code",
   "execution_count": 20,
   "metadata": {},
   "outputs": [
    {
     "name": "stdout",
     "output_type": "stream",
     "text": [
      "Welcome to emptiness\n"
     ]
    }
   ],
   "source": [
    "#how to create an empty function\n",
    "\n",
    "def python():\n",
    "    def __init__(self,x,y):\n",
    "        self.x=x\n",
    "        self.y=y\n",
    "        sum=x+y\n",
    "    pass\n",
    "print(\"Welcome to emptiness\")"
   ]
  },
  {
   "cell_type": "raw",
   "metadata": {},
   "source": [
    "1. WAP to find how many times a digit occured in a number, both inputs from user\n",
    "2. WAP to find even and odd numbers in given range and print them"
   ]
  },
  {
   "cell_type": "code",
   "execution_count": 28,
   "metadata": {},
   "outputs": [
    {
     "name": "stdout",
     "output_type": "stream",
     "text": [
      "Enter a number: 133333335\n",
      "Enter a digit to find the rate of occurence: 3\n",
      "The digit occured 7 times.\n"
     ]
    }
   ],
   "source": [
    "#WAP to find how many times a digit occured in a number, both inputs from user\n",
    "\n",
    "n = int(input(\"Enter a number: \"))\n",
    "to_find = int(input(\"Enter a digit to find the rate of occurence: \"))\n",
    "occurence = 0\n",
    "\n",
    "while(n>0):\n",
    "    d = n%10\n",
    "    if(d == to_find):\n",
    "        occurence += 1\n",
    "    n = n//10 #floor division\n",
    "\n",
    "print(\"The digit occured\", occurence, \"times.\")"
   ]
  },
  {
   "cell_type": "code",
   "execution_count": 30,
   "metadata": {},
   "outputs": [
    {
     "name": "stdout",
     "output_type": "stream",
     "text": [
      "Enter the starting point: 1\n",
      "Enter the ending point: 20\n",
      "The even numbers are: 2 4 6 8 10 12 14 16 18 20 \n",
      "The odd numbers are: 1 3 5 7 9 11 13 15 17 19 "
     ]
    }
   ],
   "source": [
    "#WAP to find even and odd numbers in given range and print them\n",
    "\n",
    "start = int(input(\"Enter the starting point: \"))\n",
    "end = int(input(\"Enter the ending point: \"))\n",
    "\n",
    "print(\"The even numbers are:\", end = \" \")\n",
    "for i in range(start, end+1):\n",
    "    if(i%2 == 0):\n",
    "        print(i, end = \" \")\n",
    "\n",
    "print()\n",
    "\n",
    "print(\"The odd numbers are:\", end = \" \")\n",
    "for i in range(start, end+1):\n",
    "    if(i%2 != 0):\n",
    "        print(i, end = \" \")"
   ]
  }
 ],
 "metadata": {
  "kernelspec": {
   "display_name": "Python 3",
   "language": "python",
   "name": "python3"
  },
  "language_info": {
   "codemirror_mode": {
    "name": "ipython",
    "version": 3
   },
   "file_extension": ".py",
   "mimetype": "text/x-python",
   "name": "python",
   "nbconvert_exporter": "python",
   "pygments_lexer": "ipython3",
   "version": "3.7.3"
  }
 },
 "nbformat": 4,
 "nbformat_minor": 2
}
