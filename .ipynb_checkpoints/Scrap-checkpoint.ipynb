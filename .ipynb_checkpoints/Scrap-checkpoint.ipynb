{
 "cells": [
  {
   "cell_type": "code",
   "execution_count": 2,
   "metadata": {},
   "outputs": [
    {
     "name": "stdout",
     "output_type": "stream",
     "text": [
      "1.0, 2.0, 3.0, 4.0, 5.0\n"
     ]
    }
   ],
   "source": [
    "def divide_num(arr):\n",
    "    for i in arr[:-1]:\n",
    "        print(i/2, end=\", \")\n",
    "    print(arr[-1]/2)    \n",
    "divide_num([2,4,6,8,10])"
   ]
  },
  {
   "cell_type": "code",
   "execution_count": 2,
   "metadata": {},
   "outputs": [
    {
     "name": "stdout",
     "output_type": "stream",
     "text": [
      "1\n"
     ]
    }
   ],
   "source": [
    "def find_fruit(fruits, name):\n",
    "    if name in fruits:\n",
    "        return fruits.index(name)\n",
    "    else:\n",
    "        return -1\n",
    "    \n",
    "print(find_fruit([\"Apple\", \"Mango\", \"Banana\"], \"Mango\"))"
   ]
  },
  {
   "cell_type": "code",
   "execution_count": null,
   "metadata": {},
   "outputs": [],
   "source": []
  }
 ],
 "metadata": {
  "kernelspec": {
   "display_name": "Python 3",
   "language": "python",
   "name": "python3"
  },
  "language_info": {
   "codemirror_mode": {
    "name": "ipython",
    "version": 3
   },
   "file_extension": ".py",
   "mimetype": "text/x-python",
   "name": "python",
   "nbconvert_exporter": "python",
   "pygments_lexer": "ipython3",
   "version": "3.7.3"
  }
 },
 "nbformat": 4,
 "nbformat_minor": 2
}
