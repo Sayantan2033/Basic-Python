{
 "cells": [
  {
   "cell_type": "markdown",
   "metadata": {},
   "source": [
    "# Lists"
   ]
  },
  {
   "cell_type": "raw",
   "metadata": {},
   "source": [
    "List is the collection of heterogenous objects where insertion order is preserved and duplicates are allowed.\n",
    "It is mutable and represented []\n",
    "We can perform CRUD operation.\n",
    "C create\n",
    "R read\n",
    "U update\n",
    "D delete\n",
    "\n",
    "Example:"
   ]
  },
  {
   "cell_type": "code",
   "execution_count": 2,
   "metadata": {},
   "outputs": [
    {
     "name": "stdout",
     "output_type": "stream",
     "text": [
      "[1, 2, 12.05, 'python', (12+12j), 'machine_learning', 'data_science', True]\n",
      "<class 'list'>\n",
      "2178805821320\n"
     ]
    }
   ],
   "source": [
    "x=[1,2,12.05,\"python\",12+12j,\"machine_learning\",\"data_science\",True]\n",
    "print(x)\n",
    "print(type(x))\n",
    "print(id(x))"
   ]
  },
  {
   "cell_type": "code",
   "execution_count": 1,
   "metadata": {},
   "outputs": [
    {
     "name": "stdout",
     "output_type": "stream",
     "text": [
      "Enter the elements: 1,2,3,4,5,6,7\n",
      "[1, 2, 3, 4, 5, 6, 7]\n",
      "<class 'list'>\n"
     ]
    }
   ],
   "source": [
    "#creation of list\n",
    "#using []\n",
    "\n",
    "x = list(eval(input(\"Enter the elements: \")))\n",
    "\n",
    "print(x)\n",
    "print(type(x))"
   ]
  },
  {
   "cell_type": "code",
   "execution_count": null,
   "metadata": {},
   "outputs": [],
   "source": [
    "# eval is used to accept any data type\n",
    "\n",
    "x = eval(input(\"Enter number 1: \"))\n",
    "y = eval(input(\"Enter number 2: \"))\n",
    "\n",
    "sum = x+y\n",
    "\n",
    "print(sum)\n",
    "print(type(sum))"
   ]
  },
  {
   "cell_type": "code",
   "execution_count": 2,
   "metadata": {},
   "outputs": [
    {
     "name": "stdout",
     "output_type": "stream",
     "text": [
      "<class 'tuple'>\n",
      "[1, 2, 3, 'python', True]\n",
      "<class 'list'>\n"
     ]
    }
   ],
   "source": [
    "#using list functions\n",
    "\n",
    "i = (1,2,3,\"python\",True)\n",
    "print(type(i))\n",
    "\n",
    "l = list(i)\n",
    "\n",
    "print(l)\n",
    "print(type(l))"
   ]
  },
  {
   "cell_type": "markdown",
   "metadata": {},
   "source": [
    "# List comprehension"
   ]
  },
  {
   "cell_type": "code",
   "execution_count": 6,
   "metadata": {},
   "outputs": [
    {
     "name": "stdout",
     "output_type": "stream",
     "text": [
      "[1, 4, 9, 16, 25, 36, 49, 64, 81, 100]\n",
      "[1, 4, 27, 256, 3125, 46656, 823543, 16777216, 387420489, 10000000000]\n"
     ]
    }
   ],
   "source": [
    "#the logic to generate list element is called list comprehension\n",
    "\n",
    "l = [x*x for x in range(1,11)]\n",
    "print(l)\n",
    "\n",
    "l = [x**x for x in range(1,11)] #it is printing x to the power x\n",
    "print(l)"
   ]
  },
  {
   "cell_type": "code",
   "execution_count": 8,
   "metadata": {},
   "outputs": [
    {
     "name": "stdout",
     "output_type": "stream",
     "text": [
      "['Python', 'is', 'a', 'very', 'easy', 'language']\n"
     ]
    }
   ],
   "source": [
    "#Using split\n",
    "\n",
    "l = \"Python is a very easy language\"\n",
    "x = l.split()\n",
    "print(x)"
   ]
  },
  {
   "cell_type": "markdown",
   "metadata": {},
   "source": [
    "# Methods of list"
   ]
  },
  {
   "cell_type": "code",
   "execution_count": 9,
   "metadata": {},
   "outputs": [
    {
     "name": "stdout",
     "output_type": "stream",
     "text": [
      "30\n",
      "True\n"
     ]
    }
   ],
   "source": [
    "#indexing\n",
    "\n",
    "l = [10,20,30,\"python\",True]\n",
    "\n",
    "print(l[2])\n",
    "print(l[-1])"
   ]
  },
  {
   "cell_type": "code",
   "execution_count": 10,
   "metadata": {},
   "outputs": [],
   "source": [
    "#slicing"
   ]
  },
  {
   "cell_type": "raw",
   "metadata": {},
   "source": [
    "Syntax:\n",
    "\n",
    "var_name = [begin:end:step]"
   ]
  },
  {
   "cell_type": "code",
   "execution_count": 13,
   "metadata": {},
   "outputs": [
    {
     "name": "stdout",
     "output_type": "stream",
     "text": [
      "[20, 30]\n",
      "[30, True]\n"
     ]
    }
   ],
   "source": [
    "l = [10,20,30,\"python\",True]\n",
    "\n",
    "print(l[1:3])\n",
    "print(l[2:50:2])"
   ]
  },
  {
   "cell_type": "code",
   "execution_count": 14,
   "metadata": {},
   "outputs": [
    {
     "name": "stdout",
     "output_type": "stream",
     "text": [
      "10\n",
      "20\n",
      "30\n",
      "python\n",
      "True\n"
     ]
    }
   ],
   "source": [
    "#using loop\n",
    "\n",
    "l = [10,20,30,\"python\",True]\n",
    "\n",
    "for i in l:\n",
    "    print(i)"
   ]
  },
  {
   "cell_type": "code",
   "execution_count": 15,
   "metadata": {},
   "outputs": [
    {
     "name": "stdout",
     "output_type": "stream",
     "text": [
      "[10, 20, 30, 'python', True]\n",
      "[10, 20, 30, 'python', True]\n",
      "[10, 20, 30, 'python', True]\n",
      "[10, 20, 30, 'python', True]\n",
      "[10, 20, 30, 'python', True]\n"
     ]
    }
   ],
   "source": [
    "l = [10,20,30,\"python\",True]\n",
    "\n",
    "for i in l:\n",
    "    print(l)"
   ]
  },
  {
   "cell_type": "code",
   "execution_count": 18,
   "metadata": {},
   "outputs": [
    {
     "name": "stdout",
     "output_type": "stream",
     "text": [
      "10\n",
      "20\n",
      "30\n",
      "python\n",
      "True\n"
     ]
    }
   ],
   "source": [
    "#while loop\n",
    "\n",
    "l = [10,20,30,\"python\",True]\n",
    "\n",
    "i = 0\n",
    "while i<len(l):\n",
    "    print(l[i])\n",
    "    i += 1"
   ]
  },
  {
   "cell_type": "code",
   "execution_count": 20,
   "metadata": {},
   "outputs": [
    {
     "name": "stdout",
     "output_type": "stream",
     "text": [
      "Enter the elements: 1,2,3,4,5,6,7,8\n",
      "The even numbers in the list are: \n",
      "2 4 6 8 "
     ]
    }
   ],
   "source": [
    "#WAP to print even numbers from list\n",
    "\n",
    "x = eval(input(\"Enter the elements: \"))\n",
    "\n",
    "print(\"The even numbers in the list are: \")\n",
    "for i in x:\n",
    "    if i%2 == 0:\n",
    "        print(i, end = \" \")"
   ]
  },
  {
   "cell_type": "code",
   "execution_count": 22,
   "metadata": {},
   "outputs": [
    {
     "name": "stdout",
     "output_type": "stream",
     "text": [
      "Enter the elements: 1,2,3,4,5,6,7\n",
      "The elements of list index-wise are: \n",
      "1 : 1\n",
      "2 : 2\n",
      "3 : 3\n",
      "4 : 4\n",
      "5 : 5\n",
      "6 : 6\n",
      "7 : 7\n"
     ]
    }
   ],
   "source": [
    "#WAP to print elements of list index wise\n",
    "\n",
    "x = eval(input(\"Enter the elements: \"))\n",
    "\n",
    "print(\"The elements of list index-wise are: \")\n",
    "\n",
    "for i in x:\n",
    "    print(i,\":\",x[i-1])"
   ]
  },
  {
   "cell_type": "markdown",
   "metadata": {},
   "source": [
    "# List built in functions"
   ]
  },
  {
   "cell_type": "code",
   "execution_count": 23,
   "metadata": {},
   "outputs": [
    {
     "name": "stdout",
     "output_type": "stream",
     "text": [
      "210\n",
      "1\n",
      "6\n"
     ]
    }
   ],
   "source": [
    "# max, min, len, list\n",
    "\n",
    "l = [1,210,3,20,56,69]\n",
    "\n",
    "print(max(l))\n",
    "print(min(l))\n",
    "print(len(l))"
   ]
  },
  {
   "cell_type": "code",
   "execution_count": 29,
   "metadata": {},
   "outputs": [
    {
     "name": "stdout",
     "output_type": "stream",
     "text": [
      "x\n",
      "A\n"
     ]
    }
   ],
   "source": [
    "x = ['A','Z',\"a\",\"x\"]\n",
    "\n",
    "print(max(x))\n",
    "print(min(x))"
   ]
  },
  {
   "cell_type": "code",
   "execution_count": 2,
   "metadata": {},
   "outputs": [
    {
     "name": "stdout",
     "output_type": "stream",
     "text": [
      "['League', 'of', 'Legends', 'is', 'balanced.']\n",
      "<class 'list'>\n",
      "of\n",
      "League\n"
     ]
    }
   ],
   "source": [
    "s = \"League of Legends is balanced.\"\n",
    "\n",
    "x = s.split()\n",
    "\n",
    "print(x)\n",
    "print(type(x))\n",
    "\n",
    "print(max(x))\n",
    "print(min(x))"
   ]
  },
  {
   "cell_type": "markdown",
   "metadata": {},
   "source": [
    "# Methods of list"
   ]
  },
  {
   "cell_type": "raw",
   "metadata": {},
   "source": [
    "1. Append\n",
    "2. Extend"
   ]
  },
  {
   "cell_type": "code",
   "execution_count": 33,
   "metadata": {},
   "outputs": [
    {
     "name": "stdout",
     "output_type": "stream",
     "text": [
      "[10, 20, 30, 40, 50, 'Python']\n"
     ]
    }
   ],
   "source": [
    "i = [10,20,30,40,50]\n",
    "\n",
    "i.append(\"Python\")\n",
    "\n",
    "print(i)"
   ]
  },
  {
   "cell_type": "code",
   "execution_count": 35,
   "metadata": {},
   "outputs": [
    {
     "name": "stdout",
     "output_type": "stream",
     "text": [
      "[10, 20, 30, 40, 50, 'Python', 100, 200]\n"
     ]
    }
   ],
   "source": [
    "#Extend\n",
    "\n",
    "i = [10,20,30,40,50]\n",
    "\n",
    "i.extend([\"Python\",100,200])\n",
    "\n",
    "print(i)"
   ]
  },
  {
   "cell_type": "code",
   "execution_count": 36,
   "metadata": {},
   "outputs": [
    {
     "name": "stdout",
     "output_type": "stream",
     "text": [
      "[-100, -50, 10, 20, 30, 50, 60, 69]\n"
     ]
    }
   ],
   "source": [
    "#Sort\n",
    "\n",
    "i = [10,20,30,-100,-50,50,60,69]\n",
    "\n",
    "i.sort()\n",
    "\n",
    "print(i)"
   ]
  },
  {
   "cell_type": "code",
   "execution_count": 37,
   "metadata": {},
   "outputs": [
    {
     "name": "stdout",
     "output_type": "stream",
     "text": [
      "[10, 20, 30, -100, -50, 50, 60, 69]\n"
     ]
    }
   ],
   "source": [
    "#Copy method\n",
    "\n",
    "i = [10,20,30,-100,-50,50,60,69]\n",
    "\n",
    "y = i.copy() #takes no argument\n",
    "\n",
    "print(y)"
   ]
  },
  {
   "cell_type": "code",
   "execution_count": 40,
   "metadata": {},
   "outputs": [
    {
     "name": "stdout",
     "output_type": "stream",
     "text": [
      "69\n",
      "[10, 20, 30, -100, -50, 50, 60]\n"
     ]
    }
   ],
   "source": [
    "#pop\n",
    "\n",
    "i = [10,20,30,-100,-50,50,60,69]\n",
    "\n",
    "print(i.pop())\n",
    "print(i)"
   ]
  },
  {
   "cell_type": "code",
   "execution_count": 41,
   "metadata": {},
   "outputs": [
    {
     "name": "stdout",
     "output_type": "stream",
     "text": [
      "30\n",
      "[10, 20, -100, -50, 50, 60, 69]\n"
     ]
    }
   ],
   "source": [
    "#pop with index\n",
    "\n",
    "i = [10,20,30,-100,-50,50,60,69]\n",
    "\n",
    "print(i.pop(2))\n",
    "print(i)"
   ]
  },
  {
   "cell_type": "code",
   "execution_count": 45,
   "metadata": {},
   "outputs": [
    {
     "name": "stdout",
     "output_type": "stream",
     "text": [
      "[10, 20, 30, -100, -50, 50, 60, 69]\n",
      "[10, 20, -100, -50, 50, 60, 69]\n"
     ]
    }
   ],
   "source": [
    "#Remove with value\n",
    "\n",
    "i = [10,20,30,-100,-50,50,60,69]\n",
    "print(i)\n",
    "i.remove(30) #removes all instances\n",
    "print(i)"
   ]
  },
  {
   "cell_type": "code",
   "execution_count": 44,
   "metadata": {},
   "outputs": [
    {
     "name": "stdout",
     "output_type": "stream",
     "text": [
      "[10, 20, 'Python', 30, -100, -50, 50, 60, 69]\n"
     ]
    }
   ],
   "source": [
    "#insert\n",
    "\n",
    "x = [10,20,30,-100,-50,50,60,69]\n",
    "\n",
    "x.insert(2,\"Python\") #MUST GIVE INDEX\n",
    "\n",
    "print(x)"
   ]
  },
  {
   "cell_type": "code",
   "execution_count": null,
   "metadata": {},
   "outputs": [],
   "source": []
  }
 ],
 "metadata": {
  "kernelspec": {
   "display_name": "Python 3",
   "language": "python",
   "name": "python3"
  },
  "language_info": {
   "codemirror_mode": {
    "name": "ipython",
    "version": 3
   },
   "file_extension": ".py",
   "mimetype": "text/x-python",
   "name": "python",
   "nbconvert_exporter": "python",
   "pygments_lexer": "ipython3",
   "version": "3.7.3"
  }
 },
 "nbformat": 4,
 "nbformat_minor": 2
}
