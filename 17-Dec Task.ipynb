{
 "cells": [
  {
   "cell_type": "markdown",
   "metadata": {},
   "source": [
    "f(0) = 0\n",
    "\n",
    "f(1) = 1\n",
    "\n",
    "f(n) = 2*f(n-1) - 2*f(n-2)"
   ]
  },
  {
   "cell_type": "code",
   "execution_count": 26,
   "metadata": {},
   "outputs": [
    {
     "name": "stdout",
     "output_type": "stream",
     "text": [
      "Enter the length of series to check for:10\n",
      "Enter the numbers to check for:2,2,0\n",
      "The list entered is included in series.\n"
     ]
    }
   ],
   "source": [
    "def make_series(n):\n",
    "    if(n == 0):\n",
    "        return 0\n",
    "    elif(n == 1):\n",
    "        return 1\n",
    "    else:\n",
    "        return 2*make_series(n-1) - 2*make_series(n-2)\n",
    "\n",
    "n = int(input(\"Enter the length of series to check for:\"))\n",
    "ser = []\n",
    "\n",
    "for i in range(n):\n",
    "    ser.append(make_series(i))\n",
    "\n",
    "x = list(eval(input(\"Enter the numbers to check for:\")))\n",
    "\n",
    "flag = 1\n",
    "for i in x:\n",
    "    if i in ser:\n",
    "        flag = 1\n",
    "    else:\n",
    "        flag = 0\n",
    "\n",
    "if flag == 1:\n",
    "    print(\"The list entered is included in series.\")\n",
    "elif flag == 0:\n",
    "    print(\"The list entered is not entirely included in series.\")"
   ]
  }
 ],
 "metadata": {
  "kernelspec": {
   "display_name": "Python 3",
   "language": "python",
   "name": "python3"
  },
  "language_info": {
   "codemirror_mode": {
    "name": "ipython",
    "version": 3
   },
   "file_extension": ".py",
   "mimetype": "text/x-python",
   "name": "python",
   "nbconvert_exporter": "python",
   "pygments_lexer": "ipython3",
   "version": "3.7.3"
  }
 },
 "nbformat": 4,
 "nbformat_minor": 2
}
