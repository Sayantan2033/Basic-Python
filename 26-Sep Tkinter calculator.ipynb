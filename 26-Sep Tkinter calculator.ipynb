{
 "cells": [
  {
   "cell_type": "markdown",
   "metadata": {},
   "source": [
    "# Tkinter"
   ]
  },
  {
   "cell_type": "code",
   "execution_count": 2,
   "metadata": {},
   "outputs": [],
   "source": [
    "from tkinter import*\n",
    "\n",
    "cal = Tk()\n",
    "cal.title(\"Calculator\")\n",
    "operator = \"\"\n",
    "text_input = StringVar()\n",
    "\n",
    "txtDisplay = Entry(cal, font = ('arial', 20, 'bold'), textvariable = text_input, bd = 30, insertwidth = 4, bg = \"powder blue\", justify = 'right').grid(columnspan = 4)\n",
    "\n",
    "#Function to update expression in text box\n",
    "def btnClick(num):\n",
    "    global operator\n",
    "    operator = operator + str(num)\n",
    "    text_input.set(operator)\n",
    "    \n",
    "#Function to evaluate final expression\n",
    "def btnEqualInput():\n",
    "    try:\n",
    "        global operator\n",
    "        total = str(eval(operator))\n",
    "        text_input.set(total)\n",
    "        operator = \"\"\n",
    "    except:\n",
    "        text_input.set(\"\")\n",
    "        operator = \"\"\n",
    "    \n",
    "#Function to clear display\n",
    "def btnClearDisplay():\n",
    "    global operator\n",
    "    operator = \"\"\n",
    "    text_input.set(\"\")\n",
    "\n",
    "#First line row\n",
    "btn7 = Button(cal, padx = 16, pady = 16, bd = 8, fg = \"white\", font = ('arial', 20, 'bold'), text = \"7\", bg = \"Navy Blue\", command = lambda:btnClick(7)).grid(row = 1, column = 0)\n",
    "btn8 = Button(cal, padx = 16, pady = 16, bd = 8, fg = \"white\", font = ('arial', 20, 'bold'), text = \"8\", bg = \"Navy Blue\", command = lambda:btnClick(8)).grid(row = 1, column = 1)\n",
    "btn9 = Button(cal, padx = 16, pady = 16, bd = 8, fg = \"white\", font = ('arial', 20, 'bold'), text = \"9\", bg = \"Navy Blue\", command = lambda:btnClick(9)).grid(row = 1, column = 2)\n",
    "btnplus = Button(cal, padx = 16, pady = 16, bd = 8, fg = \"white\", font = ('arial', 20, 'bold'), text = \"+\", bg = \"Navy Blue\", command = lambda:btnClick(\"+\")).grid(row = 1, column = 3)\n",
    "\n",
    "#Second row\n",
    "btn4 = Button(cal, padx = 16, pady = 16, bd = 8, fg = \"white\", font = ('arial', 20, 'bold'), text = \"4\", bg = \"Navy Blue\", command = lambda:btnClick(4)).grid(row = 2, column = 0)\n",
    "btn5 = Button(cal, padx = 16, pady = 16, bd = 8, fg = \"white\", font = ('arial', 20, 'bold'), text = \"5\", bg = \"Navy Blue\", command = lambda:btnClick(5)).grid(row = 2, column = 1)\n",
    "btn6 = Button(cal, padx = 16, pady = 16, bd = 8, fg = \"white\", font = ('arial', 20, 'bold'), text = \"6\", bg = \"Navy Blue\", command = lambda:btnClick(6)).grid(row = 2, column = 2)\n",
    "btnminus = Button(cal, padx = 16, pady = 16, bd = 8, fg = \"white\", font = ('arial', 20, 'bold'), text = \"-\", bg = \"Navy Blue\", command = lambda:btnClick(\"-\")).grid(row = 2, column = 3)\n",
    "\n",
    "#Third row\n",
    "btn1 = Button(cal, padx = 16, pady = 16, bd = 8, fg = \"white\", font = ('arial', 20, 'bold'), text = \"1\", bg = \"Navy Blue\", command = lambda:btnClick(1)).grid(row = 3, column = 0)\n",
    "btn2 = Button(cal, padx = 16, pady = 16, bd = 8, fg = \"white\", font = ('arial', 20, 'bold'), text = \"2\", bg = \"Navy Blue\", command = lambda:btnClick(2)).grid(row = 3, column = 1)\n",
    "btn3 = Button(cal, padx = 16, pady = 16, bd = 8, fg = \"white\", font = ('arial', 20, 'bold'), text = \"3\", bg = \"Navy Blue\", command = lambda:btnClick(3)).grid(row = 3, column = 2)\n",
    "btnmult = Button(cal, padx = 16, pady = 16, bd = 8, fg = \"white\", font = ('arial', 20, 'bold'), text = \"*\", bg = \"Navy Blue\", command = lambda:btnClick(\"*\")).grid(row = 3, column = 3)\n",
    "\n",
    "#Fourth row\n",
    "btn0 = Button(cal, padx = 16, pady = 16, bd = 8, fg = \"white\", font = ('arial', 20, 'bold'), text = \"0\", bg = \"Navy Blue\", command = lambda:btnClick(0)).grid(row = 4, column = 0)\n",
    "btnC = Button(cal, padx = 16, pady = 16, bd = 8, fg = \"white\", font = ('arial', 20, 'bold'), text = \"C\", bg = \"Navy Blue\", command = btnClearDisplay).grid(row = 4, column = 1)\n",
    "btnequals = Button(cal, padx = 16, pady = 16, bd = 8, fg = \"white\", font = ('arial', 20, 'bold'), text = \"=\", bg = \"Navy Blue\", command = btnEqualInput).grid(row = 4, column = 2)\n",
    "btndivide = Button(cal, padx = 16, pady = 16, bd = 8, fg = \"white\", font = ('arial', 20, 'bold'), text = \"/\", bg = \"Navy Blue\", command = lambda:btnClick(\"/\")).grid(row = 4, column = 3)\n",
    "\n",
    "cal.mainloop()"
   ]
  },
  {
   "cell_type": "code",
   "execution_count": null,
   "metadata": {},
   "outputs": [],
   "source": []
  }
 ],
 "metadata": {
  "kernelspec": {
   "display_name": "Python 3",
   "language": "python",
   "name": "python3"
  },
  "language_info": {
   "codemirror_mode": {
    "name": "ipython",
    "version": 3
   },
   "file_extension": ".py",
   "mimetype": "text/x-python",
   "name": "python",
   "nbconvert_exporter": "python",
   "pygments_lexer": "ipython3",
   "version": "3.7.3"
  }
 },
 "nbformat": 4,
 "nbformat_minor": 2
}
