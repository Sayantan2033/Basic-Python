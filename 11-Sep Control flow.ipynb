{
 "cells": [
  {
   "cell_type": "markdown",
   "metadata": {},
   "source": [
    "# Control flow"
   ]
  },
  {
   "cell_type": "markdown",
   "metadata": {},
   "source": [
    "1. Iterative\n",
    "2. Conditional\n",
    "3. Transfer"
   ]
  },
  {
   "cell_type": "code",
   "execution_count": 1,
   "metadata": {},
   "outputs": [],
   "source": [
    "#iterative is loops\n",
    "#Conditional is if else, nested if\n",
    "#transfer is break, continue, pass"
   ]
  },
  {
   "cell_type": "markdown",
   "metadata": {},
   "source": [
    "# Conditional"
   ]
  },
  {
   "cell_type": "markdown",
   "metadata": {},
   "source": [
    "if\n",
    "\n",
    "if(condition)\n",
    "\n",
    "    statement"
   ]
  },
  {
   "cell_type": "code",
   "execution_count": 6,
   "metadata": {},
   "outputs": [
    {
     "name": "stdout",
     "output_type": "stream",
     "text": [
      "Enter a number 001\n",
      "The number 1 is positive\n"
     ]
    }
   ],
   "source": [
    "a = int(input(\"Enter a number \"))\n",
    "\n",
    "if(a > 0):\n",
    "    print(\"The number\", a, \"is positive\")"
   ]
  },
  {
   "cell_type": "markdown",
   "metadata": {},
   "source": [
    "else\n",
    "\n",
    "Syntax:\n",
    "\n",
    "if(condition):\n",
    "        \n",
    "        statement\n",
    "        \n",
    "else:\n",
    "\n",
    "        statement"
   ]
  },
  {
   "cell_type": "code",
   "execution_count": 7,
   "metadata": {},
   "outputs": [
    {
     "name": "stdout",
     "output_type": "stream",
     "text": [
      "Enter a number -100\n",
      "The number -100 is negative\n"
     ]
    }
   ],
   "source": [
    "a = int(input(\"Enter a number \"))\n",
    "\n",
    "if(a > 0):\n",
    "    print(\"The number\", a, \"is positive\")\n",
    "else:\n",
    "    print(\"The number\", a, \"is negative\")"
   ]
  },
  {
   "cell_type": "markdown",
   "metadata": {},
   "source": [
    "Q: How many formats are there in python for print statement?\n",
    "\n"
   ]
  },
  {
   "cell_type": "code",
   "execution_count": 10,
   "metadata": {},
   "outputs": [
    {
     "name": "stdout",
     "output_type": "stream",
     "text": [
      "I am the night 10 15 20 20.05\n",
      "a: 10, b: 15, c: 20, d: 20.05\n",
      "The numbers are 10, 15, 20 and 20.05\n"
     ]
    }
   ],
   "source": [
    "a = 10\n",
    "b = 15\n",
    "c = 20\n",
    "f = 20.05\n",
    "\n",
    "#Normal print format\n",
    "\n",
    "print(\"I am the night\", a, b, c, f)\n",
    "\n",
    "#printf format (like C) with modulo operator\n",
    "\n",
    "print(\"a: %2d, b: %2d, c: %2d, d: %5.2f\" % (a,b,c,f))\n",
    "\n",
    "#format function\n",
    "\n",
    "print(\"The numbers are {}, {}, {} and {}\".format(a,b,c,f))"
   ]
  },
  {
   "cell_type": "markdown",
   "metadata": {},
   "source": [
    "Nested if\n",
    "\n",
    "Syntax:\n",
    "\n",
    "if(condition):\n",
    "    statement\n",
    "elif(condition):\n",
    "    statement"
   ]
  },
  {
   "cell_type": "code",
   "execution_count": 8,
   "metadata": {},
   "outputs": [
    {
     "name": "stdout",
     "output_type": "stream",
     "text": [
      "Enter a number 0\n",
      "The number 0 is zero\n"
     ]
    }
   ],
   "source": [
    "a = int(input(\"Enter a number \"))\n",
    "\n",
    "if(a > 0):\n",
    "    print(\"The number\", a, \"is positive\")\n",
    "elif(a < 0):\n",
    "    print(\"The number\", a, \"is negative\")\n",
    "else:\n",
    "    print(\"The number\", a, \"is zero\")"
   ]
  },
  {
   "cell_type": "code",
   "execution_count": 12,
   "metadata": {},
   "outputs": [
    {
     "name": "stdout",
     "output_type": "stream",
     "text": [
      "Enter the first number11\n",
      "Enter the second number11\n",
      "Both numbers are equal\n"
     ]
    }
   ],
   "source": [
    "number1 = int(input(\"Enter the first number\"))\n",
    "number2 = int(input(\"Enter the second number\"))\n",
    "\n",
    "if(number1 == number2):\n",
    "    print(\"Both numbers are equal\")\n",
    "elif(number1 < number2):\n",
    "    print(\"Number 1 is less than Number 2\")\n",
    "else:\n",
    "    print(\"Number 2 is less than Number 1\")"
   ]
  },
  {
   "cell_type": "code",
   "execution_count": 22,
   "metadata": {},
   "outputs": [
    {
     "name": "stdout",
     "output_type": "stream",
     "text": [
      "Enter the first number: 48\n",
      "Enter the second number: 5\n",
      "Enter the third number: 4\n",
      "48 is the greatest\n"
     ]
    }
   ],
   "source": [
    "#WAP to print greatest number using three variables\n",
    "\n",
    "a = int(input(\"Enter the first number: \"))\n",
    "b = int(input(\"Enter the second number: \"))\n",
    "c = int(input(\"Enter the third number: \"))\n",
    "\n",
    "if(a >= b >= c):\n",
    "    print(a,\"is the greatest\")\n",
    "elif(b >= a >= c):\n",
    "    print(b,\"is the greatest\")\n",
    "else:\n",
    "    print(c,\"is the greatest\")"
   ]
  },
  {
   "cell_type": "markdown",
   "metadata": {},
   "source": [
    "WAP to do the following:\n",
    "1. Not accept -1\n",
    "2. Not accept two equal numbers\n",
    "3. Tell if all are equal\n",
    "4. Tell if two are equal"
   ]
  },
  {
   "cell_type": "code",
   "execution_count": 1,
   "metadata": {},
   "outputs": [
    {
     "name": "stdout",
     "output_type": "stream",
     "text": [
      "Enter three numbers, either all positive or negative\n",
      "Enter the first number: 1\n",
      "Enter the second number: 2\n",
      "Enter the third number: -3\n",
      "The third number is negative, re-enter\n",
      "Enter the third number: 3\n",
      "3 is the greatest\n"
     ]
    }
   ],
   "source": [
    "#WAP to not accept odd one out\n",
    "\n",
    "print(\"Enter three numbers, either all positive or negative\")\n",
    "\n",
    "a = int(input(\"Enter the first number: \"))\n",
    "b = int(input(\"Enter the second number: \"))\n",
    "c = int(input(\"Enter the third number: \"))\n",
    "\n",
    "if(a > 0 and b > 0 and c < 0):\n",
    "    print(\"The third number is negative, re-enter\")\n",
    "    c = int(input(\"Enter the third number: \"))\n",
    "    \n",
    "elif(a > 0 and b < 0 and c > 0):\n",
    "    print(\"The second number is negative, re-enter\")\n",
    "    b = int(input(\"Enter the second number: \"))\n",
    "    \n",
    "elif(a < 0 and b > 0 and c > 0):\n",
    "    print(\"The first number is negative, re-enter\")\n",
    "    b = int(input(\"Enter the first number: \"))\n",
    "    \n",
    "elif(a < 0 and b < 0 and c > 0):\n",
    "    print(\"The third number is positive, re-enter\")\n",
    "    c = int(input(\"Enter the third number: \"))\n",
    "    \n",
    "elif(a < 0 and b > 0 and c < 0):\n",
    "    print(\"The second number is positive, re-enter\")\n",
    "    b = int(input(\"Enter the second number: \"))\n",
    "    \n",
    "elif(a > 0 and b < 0 and c < 0):\n",
    "    print(\"The first number is positive, re-enter\")\n",
    "    b = int(input(\"Enter the first number: \"))\n",
    "    \n",
    "if(a >= b >= c):\n",
    "    print(a,\"is the greatest\")\n",
    "elif(b >= a >= c):\n",
    "    print(b,\"is the greatest\")\n",
    "else:\n",
    "    print(c,\"is the greatest\")"
   ]
  },
  {
   "cell_type": "code",
   "execution_count": 19,
   "metadata": {},
   "outputs": [
    {
     "name": "stdout",
     "output_type": "stream",
     "text": [
      "Enter three numbers, neither two should be equal\n",
      "Enter the first number: 1\n",
      "Enter the second number: 1\n",
      "Enter the third number: 3\n",
      "Two numbers are equal, re-enter all numbers: \n",
      "Enter the first number: 1\n",
      "Enter the second number: 2\n",
      "Enter the third number: 3\n",
      "3 is the greatest\n"
     ]
    }
   ],
   "source": [
    "#WAP to not accept two equal numbers\n",
    "\n",
    "print(\"Enter three numbers, neither two should be equal\")\n",
    "\n",
    "a = int(input(\"Enter the first number: \"))\n",
    "b = int(input(\"Enter the second number: \"))\n",
    "c = int(input(\"Enter the third number: \"))\n",
    "\n",
    "if(a == b or b == c or a == c):\n",
    "    print(\"Two numbers are equal, re-enter all numbers: \")\n",
    "    a = int(input(\"Enter the first number: \"))\n",
    "    b = int(input(\"Enter the second number: \"))\n",
    "    c = int(input(\"Enter the third number: \"))\n",
    "    \n",
    "if(a >= b >= c):\n",
    "    print(a,\"is the greatest\")\n",
    "elif(b >= a >= c):\n",
    "    print(b,\"is the greatest\")\n",
    "else:\n",
    "    print(c,\"is the greatest\")"
   ]
  },
  {
   "cell_type": "markdown",
   "metadata": {},
   "source": [
    "# Iterative"
   ]
  },
  {
   "cell_type": "markdown",
   "metadata": {},
   "source": [
    "for var_name in (condition):\n",
    "\n",
    "    statement"
   ]
  },
  {
   "cell_type": "code",
   "execution_count": 23,
   "metadata": {},
   "outputs": [
    {
     "name": "stdout",
     "output_type": "stream",
     "text": [
      "0\n",
      "1\n",
      "2\n",
      "3\n",
      "4\n",
      "5\n",
      "6\n",
      "7\n",
      "8\n",
      "9\n"
     ]
    }
   ],
   "source": [
    "for x in range(10):\n",
    "    print(x)"
   ]
  },
  {
   "cell_type": "code",
   "execution_count": 26,
   "metadata": {},
   "outputs": [
    {
     "name": "stdout",
     "output_type": "stream",
     "text": [
      "0 1 2 3 4 5 6 7 8 9 "
     ]
    }
   ],
   "source": [
    "for x in range(10):\n",
    "    print(x, end = \" \")"
   ]
  },
  {
   "cell_type": "code",
   "execution_count": 27,
   "metadata": {},
   "outputs": [],
   "source": [
    "#WAP to input year and check whether year is leap year or not\n",
    "#WAP to input five subject marks and print grade\n",
    "#WAP to input a number and print their table 2-20"
   ]
  },
  {
   "cell_type": "code",
   "execution_count": 20,
   "metadata": {},
   "outputs": [
    {
     "name": "stdout",
     "output_type": "stream",
     "text": [
      "Enter any number to print the table of: 45\n",
      "45 X 2 = 90\n",
      "45 X 3 = 135\n",
      "45 X 4 = 180\n",
      "45 X 5 = 225\n",
      "45 X 6 = 270\n",
      "45 X 7 = 315\n",
      "45 X 8 = 360\n",
      "45 X 9 = 405\n",
      "45 X 10 = 450\n",
      "45 X 11 = 495\n",
      "45 X 12 = 540\n",
      "45 X 13 = 585\n",
      "45 X 14 = 630\n",
      "45 X 15 = 675\n",
      "45 X 16 = 720\n",
      "45 X 17 = 765\n",
      "45 X 18 = 810\n",
      "45 X 19 = 855\n",
      "45 X 20 = 900\n"
     ]
    }
   ],
   "source": [
    "num = int(input(\"Enter any number to print the table of: \"))\n",
    "\n",
    "for x in range(2, 21):\n",
    "    print(num,\"X\",x,\"=\",num*x)"
   ]
  },
  {
   "cell_type": "code",
   "execution_count": 23,
   "metadata": {},
   "outputs": [
    {
     "name": "stdout",
     "output_type": "stream",
     "text": [
      "Enter a year of your choice: 1996\n",
      "1996 is a leap year\n"
     ]
    }
   ],
   "source": [
    "#WAP to input year and check whether year is leap year or not\n",
    "\n",
    "year = int(input(\"Enter a year of your choice: \"))\n",
    "if(year % 4 == 0):\n",
    "    print(year, \"is a leap year\")"
   ]
  },
  {
   "cell_type": "code",
   "execution_count": 31,
   "metadata": {},
   "outputs": [
    {
     "name": "stdout",
     "output_type": "stream",
     "text": [
      "Enter the marks for subject number 1\n",
      "98\n",
      "Enter the marks for subject number 2\n",
      "98\n",
      "Enter the marks for subject number 3\n",
      "98\n",
      "Enter the marks for subject number 4\n",
      "98\n",
      "Enter the marks for subject number 5\n",
      "98\n",
      "The grade is A\n"
     ]
    }
   ],
   "source": [
    "#WAP to input five subject marks and print grade\n",
    "\n",
    "sum = 0\n",
    "\n",
    "for i in range(5):\n",
    "    print(\"Enter the marks for subject number\", i+1)\n",
    "    sum += int(input())\n",
    "\n",
    "avg = sum/5\n",
    "if(avg > 90):\n",
    "    print(\"The grade is A\")\n",
    "elif(avg > 80):\n",
    "    print(\"The grade is B\")\n",
    "elif(avg > 70):\n",
    "    print(\"The grade is C\")\n",
    "elif(avg > 60):\n",
    "    print(\"The grade is D\")\n",
    "elif(avg > 50):\n",
    "    print(\"The grade is E\")\n",
    "else:\n",
    "    print(\"The grade is F\")"
   ]
  }
 ],
 "metadata": {
  "kernelspec": {
   "display_name": "Python 3",
   "language": "python",
   "name": "python3"
  },
  "language_info": {
   "codemirror_mode": {
    "name": "ipython",
    "version": 3
   },
   "file_extension": ".py",
   "mimetype": "text/x-python",
   "name": "python",
   "nbconvert_exporter": "python",
   "pygments_lexer": "ipython3",
   "version": "3.7.3"
  }
 },
 "nbformat": 4,
 "nbformat_minor": 2
}
