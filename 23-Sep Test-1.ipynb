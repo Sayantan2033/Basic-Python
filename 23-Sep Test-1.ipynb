{
 "cells": [
  {
   "cell_type": "markdown",
   "metadata": {},
   "source": [
    "# Test 1"
   ]
  },
  {
   "cell_type": "raw",
   "metadata": {},
   "source": [
    "1- What is python?\n",
    "\n",
    "Answer: Python is a compiler with an inbuilt calculator.\n",
    "\n",
    "2- Difference between C++ VS Python?\n",
    "\n",
    "Answer: Math commands are built into python and python includes several data structures that aren't included in C++\n",
    "\n",
    "3- What is list and tuple with example?\n",
    "\n",
    "Answer: List is a data structure in python that is a heterogenous collection of items where insertion order is preserved that is CRUD operable (Create Read Update Delete).\n",
    "\n",
    "x = [1,2,\"Talon\",12.65]\n",
    "\n",
    "Tuple is a data structure that is an immutable collection of items and is not CRUD oprerable.\n",
    "\n",
    "t = (1,2,3,\"Python\",12.69)\n",
    "\n",
    "4- Difference between list & tuple?\n",
    "\n",
    "Answer: List is mutable while tuple is not.\n",
    "\n",
    "5- W.A.P program to print Fibonacci series?\n",
    "6- W.A.P to print Armstrong number?\n",
    "5- W.A.P to print pyramid triangle?\n",
    "6- W.A.P to print “P” alphabet pattern?\n",
    "7- W.A.P to input a number & check number is even or odd?\n",
    "8- W.A.P to input two no & print lesser?\n",
    "9- W.A.P to input three no & print greater?\n",
    "10-W.A.P to input three no & print greater (complete logic)?\n",
    "11-W.A.P to input a number and print their table (2-20)?\n",
    "12-W.A.P to input a number & print their digits product?\n",
    "13-W.A.P to input a number & print number in Reverse order?\n",
    "14-W.A.P to input a number and check a number is palindrome or not?\n",
    "15-W.A.P to input a number & check number is Armstrong or not?\n",
    "16-Difference between None and del Keyword in python?\n",
    "17-Difference between range & X-Range?\n",
    "18-Difference between set & dictionary?\n",
    "\n",
    "Answer: The differences are:\n",
    "- Dictionary is not self-sorting whereas a set is self sorting.\n",
    "- Dictionary has two items per element, key and value whereas sets have singular elements.\n",
    "- Sets are not CRUD applicable."
   ]
  },
  {
   "cell_type": "code",
   "execution_count": 3,
   "metadata": {},
   "outputs": [
    {
     "name": "stdout",
     "output_type": "stream",
     "text": [
      "Enter the length of the series: 5\n",
      "0\n",
      "1\n",
      "1\n",
      "2\n",
      "3\n",
      "5\n",
      "8\n"
     ]
    }
   ],
   "source": [
    "#WAP to print fibonacci series\n",
    "n = eval(input(\"Enter the length of the series: \"))\n",
    "a = 0\n",
    "b = 1\n",
    "print(a)\n",
    "print(b)\n",
    "for i in range(n):\n",
    "    c = a+b\n",
    "    a = b\n",
    "    b = c\n",
    "    print(c)"
   ]
  },
  {
   "cell_type": "code",
   "execution_count": 4,
   "metadata": {},
   "outputs": [
    {
     "name": "stdout",
     "output_type": "stream",
     "text": [
      "Enter the number: 153\n",
      "The number is armstrong.\n"
     ]
    }
   ],
   "source": [
    "#WAP to print whether a number is armstrong or not\n",
    "\n",
    "n = eval(input(\"Enter the number: \"))\n",
    "temp = n\n",
    "sum = 0\n",
    "\n",
    "while n>0:\n",
    "    d = n%10\n",
    "    sum += (d*d*d)\n",
    "    n = n//10\n",
    "    \n",
    "if(sum == temp):\n",
    "    print(\"The number is armstrong.\")\n",
    "else:\n",
    "    print(\"The number is not armstrong.\")"
   ]
  },
  {
   "cell_type": "code",
   "execution_count": 5,
   "metadata": {},
   "outputs": [
    {
     "name": "stdout",
     "output_type": "stream",
     "text": [
      "Enter the number of lines: 10\n",
      "                  * \n",
      "                * * * \n",
      "              * * * * * \n",
      "            * * * * * * * \n",
      "          * * * * * * * * * \n",
      "        * * * * * * * * * * * \n",
      "      * * * * * * * * * * * * * \n",
      "    * * * * * * * * * * * * * * * \n",
      "  * * * * * * * * * * * * * * * * * \n",
      "* * * * * * * * * * * * * * * * * * * \n"
     ]
    }
   ],
   "source": [
    "#WAP to print pyramid triangle\n",
    "\n",
    "n = int(input(\"Enter the number of lines: \"))\n",
    "\n",
    "for i in range(1,n+1):\n",
    "    for j in range(n-i):\n",
    "        print(\" \", end = \" \")\n",
    "    for x in range(1,i+i):\n",
    "        print(\"*\", end = \" \")\n",
    "    print()"
   ]
  },
  {
   "cell_type": "code",
   "execution_count": 8,
   "metadata": {},
   "outputs": [
    {
     "name": "stdout",
     "output_type": "stream",
     "text": [
      " * * *\n",
      "*      *\n",
      "*      *\n",
      "* * * *\n",
      "*\n",
      "*\n",
      "*\n"
     ]
    }
   ],
   "source": [
    "#WAP to print \"P\"  pattern\n",
    "\n",
    "print(\" * * *\\n*      *\\n*      *\\n* * * *\\n*\\n*\\n*\")"
   ]
  },
  {
   "cell_type": "code",
   "execution_count": 9,
   "metadata": {},
   "outputs": [
    {
     "name": "stdout",
     "output_type": "stream",
     "text": [
      "Enter the number: 4\n",
      "The number is even.\n"
     ]
    }
   ],
   "source": [
    "#WAP to check whether number is even or odd\n",
    "\n",
    "n = eval(input(\"Enter the number: \"))\n",
    "\n",
    "if n%2 == 0:\n",
    "    print(\"The number is even.\")\n",
    "else:\n",
    "    print(\"The number is odd.\")"
   ]
  },
  {
   "cell_type": "code",
   "execution_count": 10,
   "metadata": {},
   "outputs": [
    {
     "name": "stdout",
     "output_type": "stream",
     "text": [
      "Enter the two numbers, separated by a comma: 1,2\n",
      "The lesser of the two is:  1\n"
     ]
    }
   ],
   "source": [
    "#WAP to input two numbers and print lesser\n",
    "\n",
    "x = list(eval(input(\"Enter the two numbers, separated by a comma: \")))\n",
    "\n",
    "print(\"The lesser of the two is:\", min(x))"
   ]
  },
  {
   "cell_type": "code",
   "execution_count": 12,
   "metadata": {},
   "outputs": [
    {
     "name": "stdout",
     "output_type": "stream",
     "text": [
      "Enter the three numbers, separated by a comma: 1,2,2,2,256,256\n",
      "The greatest of the three numbers is: 256\n"
     ]
    }
   ],
   "source": [
    "x = list(eval(input(\"Enter the three numbers, separated by a comma: \")))\n",
    "\n",
    "print(\"The greatest of the three numbers is:\", max(x))"
   ]
  },
  {
   "cell_type": "code",
   "execution_count": 20,
   "metadata": {},
   "outputs": [
    {
     "name": "stdout",
     "output_type": "stream",
     "text": [
      "Enter the three numbers, separated by a comma: 1,-2,3\n",
      "Invalid input, enter again.\n",
      "Enter the three numbers, separated by a comma: 1,2,3\n",
      "The greatest of the three numbers is: 3\n"
     ]
    }
   ],
   "source": [
    "x = list(eval(input(\"Enter the three numbers, separated by a comma: \")))\n",
    "if len(x)!=3:\n",
    "    print(\"Invalid input, enter again.\")\n",
    "    x = list(eval(input(\"Enter the three numbers, separated by a comma: \")))\n",
    "for i in x:\n",
    "    if i < 0:\n",
    "        print(\"Invalid input, enter again.\")\n",
    "        x = list(eval(input(\"Enter the three numbers, separated by a comma: \")))\n",
    "\n",
    "print(\"The greatest of the three numbers is:\", max(x))"
   ]
  },
  {
   "cell_type": "code",
   "execution_count": 15,
   "metadata": {},
   "outputs": [
    {
     "name": "stdout",
     "output_type": "stream",
     "text": [
      "Enter any number to print the table of: 69\n",
      "69 X 2 = 138\n",
      "69 X 3 = 207\n",
      "69 X 4 = 276\n",
      "69 X 5 = 345\n",
      "69 X 6 = 414\n",
      "69 X 7 = 483\n",
      "69 X 8 = 552\n",
      "69 X 9 = 621\n",
      "69 X 10 = 690\n",
      "69 X 11 = 759\n",
      "69 X 12 = 828\n",
      "69 X 13 = 897\n",
      "69 X 14 = 966\n",
      "69 X 15 = 1035\n",
      "69 X 16 = 1104\n",
      "69 X 17 = 1173\n",
      "69 X 18 = 1242\n",
      "69 X 19 = 1311\n",
      "69 X 20 = 1380\n"
     ]
    }
   ],
   "source": [
    "#WAP to print the table\n",
    "\n",
    "num = int(input(\"Enter any number to print the table of: \"))\n",
    "\n",
    "for x in range(2, 21):\n",
    "    print(num,\"X\",x,\"=\",num*x)"
   ]
  },
  {
   "cell_type": "code",
   "execution_count": 16,
   "metadata": {},
   "outputs": [
    {
     "name": "stdout",
     "output_type": "stream",
     "text": [
      "Enter the number: 1234\n",
      "The digit product is: 24\n"
     ]
    }
   ],
   "source": [
    "#WAP to print the digit product\n",
    "\n",
    "n = eval(input(\"Enter the number: \"))\n",
    "prod = 1\n",
    "\n",
    "while n>0:\n",
    "    d = n%10\n",
    "    prod *= d\n",
    "    n = n//10\n",
    "    \n",
    "print(\"The digit product is:\", prod)"
   ]
  },
  {
   "cell_type": "code",
   "execution_count": 17,
   "metadata": {},
   "outputs": [
    {
     "name": "stdout",
     "output_type": "stream",
     "text": [
      "Enter the number: 123\n",
      "The reversed number is: 321\n"
     ]
    }
   ],
   "source": [
    "#WAP to print number in reverse order\n",
    "\n",
    "n = eval(input(\"Enter the number: \"))\n",
    "rev = 0\n",
    "\n",
    "while n>0:\n",
    "    d = n%10\n",
    "    rev = rev*10 + d\n",
    "    n = n//10\n",
    "    \n",
    "print(\"The reversed number is:\", rev)"
   ]
  },
  {
   "cell_type": "code",
   "execution_count": 19,
   "metadata": {},
   "outputs": [
    {
     "name": "stdout",
     "output_type": "stream",
     "text": [
      "Enter the number: 13345\n",
      "The number is not a palindrome.\n"
     ]
    }
   ],
   "source": [
    "#WAP to check whether palindrome\n",
    "\n",
    "n = eval(input(\"Enter the number: \"))\n",
    "rev = 0\n",
    "temp = n\n",
    "\n",
    "while n>0:\n",
    "    d = n%10\n",
    "    rev = rev*10 + d\n",
    "    n = n//10\n",
    "    \n",
    "if(rev == temp):\n",
    "    print(\"The number is a palindrome.\")\n",
    "else:\n",
    "    print(\"The number is not a palindrome.\")"
   ]
  },
  {
   "cell_type": "code",
   "execution_count": null,
   "metadata": {},
   "outputs": [],
   "source": []
  }
 ],
 "metadata": {
  "kernelspec": {
   "display_name": "Python 3",
   "language": "python",
   "name": "python3"
  },
  "language_info": {
   "codemirror_mode": {
    "name": "ipython",
    "version": 3
   },
   "file_extension": ".py",
   "mimetype": "text/x-python",
   "name": "python",
   "nbconvert_exporter": "python",
   "pygments_lexer": "ipython3",
   "version": "3.7.3"
  }
 },
 "nbformat": 4,
 "nbformat_minor": 2
}
